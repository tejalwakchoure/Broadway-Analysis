{
 "cells": [
  {
   "cell_type": "code",
   "execution_count": 2,
   "metadata": {},
   "outputs": [],
   "source": [
    "import requests\n",
    "import time\n",
    "import re\n",
    "from bs4 import BeautifulSoup\n",
    "import numpy as np\n",
    "import pandas as pd\n",
    "from urllib.request import urlopen\n",
    "from urllib.parse import quote\n",
    "from bs4 import BeautifulSoup\n",
    "pd.options.mode.chained_assignment = None"
   ]
  },
  {
   "cell_type": "code",
   "execution_count": 38,
   "metadata": {},
   "outputs": [
    {
     "data": {
      "text/html": [
       "<div>\n",
       "<style scoped>\n",
       "    .dataframe tbody tr th:only-of-type {\n",
       "        vertical-align: middle;\n",
       "    }\n",
       "\n",
       "    .dataframe tbody tr th {\n",
       "        vertical-align: top;\n",
       "    }\n",
       "\n",
       "    .dataframe thead th {\n",
       "        text-align: right;\n",
       "    }\n",
       "</style>\n",
       "<table border=\"1\" class=\"dataframe\">\n",
       "  <thead>\n",
       "    <tr style=\"text-align: right;\">\n",
       "      <th></th>\n",
       "      <th>show</th>\n",
       "      <th>IBDB page</th>\n",
       "    </tr>\n",
       "  </thead>\n",
       "  <tbody>\n",
       "    <tr>\n",
       "      <th>0</th>\n",
       "      <td>&amp; Juliet</td>\n",
       "      <td>https://www.ibdb.com//broadway-production/-jul...</td>\n",
       "    </tr>\n",
       "    <tr>\n",
       "      <th>1</th>\n",
       "      <td>A Beautiful Noise, The Neil Diamond Musical</td>\n",
       "      <td>https://www.ibdb.com//broadway-production/a-be...</td>\n",
       "    </tr>\n",
       "    <tr>\n",
       "      <th>2</th>\n",
       "      <td>Aladdin</td>\n",
       "      <td>https://www.ibdb.com//broadway-production/alad...</td>\n",
       "    </tr>\n",
       "    <tr>\n",
       "      <th>3</th>\n",
       "      <td>Camelot</td>\n",
       "      <td>https://www.ibdb.com//broadway-production/came...</td>\n",
       "    </tr>\n",
       "    <tr>\n",
       "      <th>4</th>\n",
       "      <td>Chicago</td>\n",
       "      <td>https://www.ibdb.com//broadway-production/chic...</td>\n",
       "    </tr>\n",
       "    <tr>\n",
       "      <th>5</th>\n",
       "      <td>Fat Ham</td>\n",
       "      <td>https://www.ibdb.com//broadway-production/fat-...</td>\n",
       "    </tr>\n",
       "    <tr>\n",
       "      <th>6</th>\n",
       "      <td>Funny Girl</td>\n",
       "      <td>https://www.ibdb.com//broadway-production/funn...</td>\n",
       "    </tr>\n",
       "    <tr>\n",
       "      <th>7</th>\n",
       "      <td>Good Night, Oscar</td>\n",
       "      <td>https://www.ibdb.com//broadway-production/good...</td>\n",
       "    </tr>\n",
       "    <tr>\n",
       "      <th>8</th>\n",
       "      <td>Grey House</td>\n",
       "      <td>https://www.ibdb.com//broadway-production/grey...</td>\n",
       "    </tr>\n",
       "    <tr>\n",
       "      <th>9</th>\n",
       "      <td>Hadestown</td>\n",
       "      <td>https://www.ibdb.com//broadway-production/hade...</td>\n",
       "    </tr>\n",
       "    <tr>\n",
       "      <th>10</th>\n",
       "      <td>Hamilton</td>\n",
       "      <td>https://www.ibdb.com//broadway-production/hami...</td>\n",
       "    </tr>\n",
       "    <tr>\n",
       "      <th>11</th>\n",
       "      <td>Harry Potter and the Cursed Child, Parts One a...</td>\n",
       "      <td>https://www.ibdb.com//broadway-production/harr...</td>\n",
       "    </tr>\n",
       "    <tr>\n",
       "      <th>12</th>\n",
       "      <td>Here Lies Love</td>\n",
       "      <td>https://www.ibdb.com//broadway-production/here...</td>\n",
       "    </tr>\n",
       "    <tr>\n",
       "      <th>13</th>\n",
       "      <td>Kimberly Akimbo</td>\n",
       "      <td>https://www.ibdb.com//broadway-production/kimb...</td>\n",
       "    </tr>\n",
       "    <tr>\n",
       "      <th>14</th>\n",
       "      <td>Leopoldstadt</td>\n",
       "      <td>https://www.ibdb.com//broadway-production/leop...</td>\n",
       "    </tr>\n",
       "    <tr>\n",
       "      <th>15</th>\n",
       "      <td>Life of Pi</td>\n",
       "      <td>https://www.ibdb.com//broadway-production/life...</td>\n",
       "    </tr>\n",
       "    <tr>\n",
       "      <th>16</th>\n",
       "      <td>MJ The Musical</td>\n",
       "      <td>https://www.ibdb.com//broadway-production/mj-t...</td>\n",
       "    </tr>\n",
       "    <tr>\n",
       "      <th>17</th>\n",
       "      <td>Moulin Rouge! The Musical</td>\n",
       "      <td>https://www.ibdb.com//broadway-production/moul...</td>\n",
       "    </tr>\n",
       "    <tr>\n",
       "      <th>18</th>\n",
       "      <td>New York, New York</td>\n",
       "      <td>https://www.ibdb.com//broadway-production/new-...</td>\n",
       "    </tr>\n",
       "    <tr>\n",
       "      <th>19</th>\n",
       "      <td>Once Upon a One More Time</td>\n",
       "      <td>https://www.ibdb.com//broadway-production/once...</td>\n",
       "    </tr>\n",
       "    <tr>\n",
       "      <th>20</th>\n",
       "      <td>Parade</td>\n",
       "      <td>https://www.ibdb.com//broadway-production/para...</td>\n",
       "    </tr>\n",
       "    <tr>\n",
       "      <th>21</th>\n",
       "      <td>Peter Pan Goes Wrong</td>\n",
       "      <td>https://www.ibdb.com//broadway-production/pete...</td>\n",
       "    </tr>\n",
       "    <tr>\n",
       "      <th>22</th>\n",
       "      <td>Prima Facie</td>\n",
       "      <td>https://www.ibdb.com//broadway-production/prim...</td>\n",
       "    </tr>\n",
       "    <tr>\n",
       "      <th>23</th>\n",
       "      <td>Shucked</td>\n",
       "      <td>https://www.ibdb.com//broadway-production/shuc...</td>\n",
       "    </tr>\n",
       "    <tr>\n",
       "      <th>24</th>\n",
       "      <td>Six</td>\n",
       "      <td>https://www.ibdb.com//broadway-production/six-...</td>\n",
       "    </tr>\n",
       "    <tr>\n",
       "      <th>25</th>\n",
       "      <td>Some Like It Hot</td>\n",
       "      <td>https://www.ibdb.com//broadway-production/some...</td>\n",
       "    </tr>\n",
       "    <tr>\n",
       "      <th>26</th>\n",
       "      <td>Sweeney Todd</td>\n",
       "      <td>https://www.ibdb.com//broadway-production/swee...</td>\n",
       "    </tr>\n",
       "    <tr>\n",
       "      <th>27</th>\n",
       "      <td>The Book of Mormon</td>\n",
       "      <td>https://www.ibdb.com//broadway-production/the-...</td>\n",
       "    </tr>\n",
       "    <tr>\n",
       "      <th>28</th>\n",
       "      <td>The Lion King</td>\n",
       "      <td>https://www.ibdb.com//broadway-production/the-...</td>\n",
       "    </tr>\n",
       "    <tr>\n",
       "      <th>29</th>\n",
       "      <td>The Sign in Sidney Brustein's Window</td>\n",
       "      <td>https://www.ibdb.com//broadway-production/the-...</td>\n",
       "    </tr>\n",
       "    <tr>\n",
       "      <th>30</th>\n",
       "      <td>Wicked</td>\n",
       "      <td>https://www.ibdb.com//broadway-production/wick...</td>\n",
       "    </tr>\n",
       "  </tbody>\n",
       "</table>\n",
       "</div>"
      ],
      "text/plain": [
       "                                                 show  \\\n",
       "0                                            & Juliet   \n",
       "1         A Beautiful Noise, The Neil Diamond Musical   \n",
       "2                                             Aladdin   \n",
       "3                                             Camelot   \n",
       "4                                             Chicago   \n",
       "5                                             Fat Ham   \n",
       "6                                          Funny Girl   \n",
       "7                                   Good Night, Oscar   \n",
       "8                                          Grey House   \n",
       "9                                           Hadestown   \n",
       "10                                           Hamilton   \n",
       "11  Harry Potter and the Cursed Child, Parts One a...   \n",
       "12                                     Here Lies Love   \n",
       "13                                    Kimberly Akimbo   \n",
       "14                                       Leopoldstadt   \n",
       "15                                         Life of Pi   \n",
       "16                                     MJ The Musical   \n",
       "17                          Moulin Rouge! The Musical   \n",
       "18                                 New York, New York   \n",
       "19                          Once Upon a One More Time   \n",
       "20                                             Parade   \n",
       "21                               Peter Pan Goes Wrong   \n",
       "22                                        Prima Facie   \n",
       "23                                            Shucked   \n",
       "24                                                Six   \n",
       "25                                   Some Like It Hot   \n",
       "26                                       Sweeney Todd   \n",
       "27                                 The Book of Mormon   \n",
       "28                                      The Lion King   \n",
       "29               The Sign in Sidney Brustein's Window   \n",
       "30                                             Wicked   \n",
       "\n",
       "                                            IBDB page  \n",
       "0   https://www.ibdb.com//broadway-production/-jul...  \n",
       "1   https://www.ibdb.com//broadway-production/a-be...  \n",
       "2   https://www.ibdb.com//broadway-production/alad...  \n",
       "3   https://www.ibdb.com//broadway-production/came...  \n",
       "4   https://www.ibdb.com//broadway-production/chic...  \n",
       "5   https://www.ibdb.com//broadway-production/fat-...  \n",
       "6   https://www.ibdb.com//broadway-production/funn...  \n",
       "7   https://www.ibdb.com//broadway-production/good...  \n",
       "8   https://www.ibdb.com//broadway-production/grey...  \n",
       "9   https://www.ibdb.com//broadway-production/hade...  \n",
       "10  https://www.ibdb.com//broadway-production/hami...  \n",
       "11  https://www.ibdb.com//broadway-production/harr...  \n",
       "12  https://www.ibdb.com//broadway-production/here...  \n",
       "13  https://www.ibdb.com//broadway-production/kimb...  \n",
       "14  https://www.ibdb.com//broadway-production/leop...  \n",
       "15  https://www.ibdb.com//broadway-production/life...  \n",
       "16  https://www.ibdb.com//broadway-production/mj-t...  \n",
       "17  https://www.ibdb.com//broadway-production/moul...  \n",
       "18  https://www.ibdb.com//broadway-production/new-...  \n",
       "19  https://www.ibdb.com//broadway-production/once...  \n",
       "20  https://www.ibdb.com//broadway-production/para...  \n",
       "21  https://www.ibdb.com//broadway-production/pete...  \n",
       "22  https://www.ibdb.com//broadway-production/prim...  \n",
       "23  https://www.ibdb.com//broadway-production/shuc...  \n",
       "24  https://www.ibdb.com//broadway-production/six-...  \n",
       "25  https://www.ibdb.com//broadway-production/some...  \n",
       "26  https://www.ibdb.com//broadway-production/swee...  \n",
       "27  https://www.ibdb.com//broadway-production/the-...  \n",
       "28  https://www.ibdb.com//broadway-production/the-...  \n",
       "29  https://www.ibdb.com//broadway-production/the-...  \n",
       "30  https://www.ibdb.com//broadway-production/wick...  "
      ]
     },
     "execution_count": 38,
     "metadata": {},
     "output_type": "execute_result"
    }
   ],
   "source": [
    "url = \"https://www.ibdb.com/shows/#current\"\n",
    "soup = BeautifulSoup(urlopen(url), 'html.parser')\n",
    "showlinks = soup.find(\"div\", {\"id\": \"current\"}).find_all(\"a\", href=re.compile(\"/broadway-production/\"))\n",
    "shows = pd.DataFrame()\n",
    "for showlink in showlinks:\n",
    "    shows = pd.concat([shows, pd.DataFrame([[showlink.find(\"i\").text, \"https://www.ibdb.com/\"+quote(showlink['href'])+\"#OpeningNightCast\"]])], ignore_index=True)\n",
    "shows.columns = [\"show\",\"IBDB page\"]\n",
    "shows\n"
   ]
  },
  {
   "cell_type": "code",
   "execution_count": 23,
   "metadata": {},
   "outputs": [
    {
     "data": {
      "text/html": [
       "<div>\n",
       "<style scoped>\n",
       "    .dataframe tbody tr th:only-of-type {\n",
       "        vertical-align: middle;\n",
       "    }\n",
       "\n",
       "    .dataframe tbody tr th {\n",
       "        vertical-align: top;\n",
       "    }\n",
       "\n",
       "    .dataframe thead th {\n",
       "        text-align: right;\n",
       "    }\n",
       "</style>\n",
       "<table border=\"1\" class=\"dataframe\">\n",
       "  <thead>\n",
       "    <tr style=\"text-align: right;\">\n",
       "      <th></th>\n",
       "      <th>Unnamed: 0</th>\n",
       "      <th>actor</th>\n",
       "      <th>show</th>\n",
       "      <th>wikipedia link</th>\n",
       "    </tr>\n",
       "  </thead>\n",
       "  <tbody>\n",
       "    <tr>\n",
       "      <th>217</th>\n",
       "      <td>217</td>\n",
       "      <td>Afra Hines</td>\n",
       "      <td>Hadestown</td>\n",
       "      <td>NaN</td>\n",
       "    </tr>\n",
       "    <tr>\n",
       "      <th>265</th>\n",
       "      <td>265</td>\n",
       "      <td>James Romney</td>\n",
       "      <td>Harry Potter and the Cursed Child, Parts One a...</td>\n",
       "      <td>NaN</td>\n",
       "    </tr>\n",
       "    <tr>\n",
       "      <th>269</th>\n",
       "      <td>269</td>\n",
       "      <td>Jessie Fisher</td>\n",
       "      <td>Harry Potter and the Cursed Child, Parts One a...</td>\n",
       "      <td>NaN</td>\n",
       "    </tr>\n",
       "    <tr>\n",
       "      <th>428</th>\n",
       "      <td>428</td>\n",
       "      <td>Jeigh Madjus</td>\n",
       "      <td>Moulin Rouge! The Musical</td>\n",
       "      <td>NaN</td>\n",
       "    </tr>\n",
       "    <tr>\n",
       "      <th>434</th>\n",
       "      <td>434</td>\n",
       "      <td>Brandt Martinez</td>\n",
       "      <td>Moulin Rouge! The Musical</td>\n",
       "      <td>NaN</td>\n",
       "    </tr>\n",
       "    <tr>\n",
       "      <th>435</th>\n",
       "      <td>435</td>\n",
       "      <td>Morgan Marcell</td>\n",
       "      <td>Moulin Rouge! The Musical</td>\n",
       "      <td>NaN</td>\n",
       "    </tr>\n",
       "    <tr>\n",
       "      <th>436</th>\n",
       "      <td>436</td>\n",
       "      <td>Khori Michelle Petinaud</td>\n",
       "      <td>Moulin Rouge! The Musical</td>\n",
       "      <td>NaN</td>\n",
       "    </tr>\n",
       "    <tr>\n",
       "      <th>452</th>\n",
       "      <td>452</td>\n",
       "      <td>Amber Ardolino</td>\n",
       "      <td>Moulin Rouge! The Musical</td>\n",
       "      <td>NaN</td>\n",
       "    </tr>\n",
       "    <tr>\n",
       "      <th>476</th>\n",
       "      <td>476</td>\n",
       "      <td>Darius Wright</td>\n",
       "      <td>New York, New York</td>\n",
       "      <td>NaN</td>\n",
       "    </tr>\n",
       "    <tr>\n",
       "      <th>487</th>\n",
       "      <td>487</td>\n",
       "      <td>Jim Borstelmann</td>\n",
       "      <td>New York, New York</td>\n",
       "      <td>NaN</td>\n",
       "    </tr>\n",
       "    <tr>\n",
       "      <th>583</th>\n",
       "      <td>583</td>\n",
       "      <td>Jaygee Macapugay</td>\n",
       "      <td>Shucked</td>\n",
       "      <td>NaN</td>\n",
       "    </tr>\n",
       "    <tr>\n",
       "      <th>596</th>\n",
       "      <td>596</td>\n",
       "      <td>Anna Uzele</td>\n",
       "      <td>Six</td>\n",
       "      <td>NaN</td>\n",
       "    </tr>\n",
       "    <tr>\n",
       "      <th>641</th>\n",
       "      <td>641</td>\n",
       "      <td>Nathan Salstone</td>\n",
       "      <td>Sweeney Todd</td>\n",
       "      <td>NaN</td>\n",
       "    </tr>\n",
       "    <tr>\n",
       "      <th>658</th>\n",
       "      <td>658</td>\n",
       "      <td>Timothy Hughes</td>\n",
       "      <td>Sweeney Todd</td>\n",
       "      <td>NaN</td>\n",
       "    </tr>\n",
       "    <tr>\n",
       "      <th>673</th>\n",
       "      <td>673</td>\n",
       "      <td>Rema Webb</td>\n",
       "      <td>The Book of Mormon</td>\n",
       "      <td>NaN</td>\n",
       "    </tr>\n",
       "    <tr>\n",
       "      <th>723</th>\n",
       "      <td>723</td>\n",
       "      <td>Christopher Jackson</td>\n",
       "      <td>The Lion King</td>\n",
       "      <td>NaN</td>\n",
       "    </tr>\n",
       "  </tbody>\n",
       "</table>\n",
       "</div>"
      ],
      "text/plain": [
       "     Unnamed: 0                    actor  \\\n",
       "217         217               Afra Hines   \n",
       "265         265             James Romney   \n",
       "269         269            Jessie Fisher   \n",
       "428         428             Jeigh Madjus   \n",
       "434         434          Brandt Martinez   \n",
       "435         435           Morgan Marcell   \n",
       "436         436  Khori Michelle Petinaud   \n",
       "452         452           Amber Ardolino   \n",
       "476         476            Darius Wright   \n",
       "487         487          Jim Borstelmann   \n",
       "583         583         Jaygee Macapugay   \n",
       "596         596               Anna Uzele   \n",
       "641         641          Nathan Salstone   \n",
       "658         658           Timothy Hughes   \n",
       "673         673                Rema Webb   \n",
       "723         723      Christopher Jackson   \n",
       "\n",
       "                                                  show wikipedia link  \n",
       "217                                          Hadestown            NaN  \n",
       "265  Harry Potter and the Cursed Child, Parts One a...            NaN  \n",
       "269  Harry Potter and the Cursed Child, Parts One a...            NaN  \n",
       "428                          Moulin Rouge! The Musical            NaN  \n",
       "434                          Moulin Rouge! The Musical            NaN  \n",
       "435                          Moulin Rouge! The Musical            NaN  \n",
       "436                          Moulin Rouge! The Musical            NaN  \n",
       "452                          Moulin Rouge! The Musical            NaN  \n",
       "476                                 New York, New York            NaN  \n",
       "487                                 New York, New York            NaN  \n",
       "583                                            Shucked            NaN  \n",
       "596                                                Six            NaN  \n",
       "641                                       Sweeney Todd            NaN  \n",
       "658                                       Sweeney Todd            NaN  \n",
       "673                                 The Book of Mormon            NaN  \n",
       "723                                      The Lion King            NaN  "
      ]
     },
     "execution_count": 23,
     "metadata": {},
     "output_type": "execute_result"
    }
   ],
   "source": [
    "df = pd.read_csv(\"performer_list.csv\")\n",
    "df[df.actor.duplicated() & pd.isnull(df['wikipedia link'])]"
   ]
  },
  {
   "cell_type": "code",
   "execution_count": 8,
   "metadata": {},
   "outputs": [
    {
     "data": {
      "text/plain": [
       "0                                                    NaN\n",
       "1                                                    NaN\n",
       "2                                                    NaN\n",
       "3                                                    NaN\n",
       "4      Gerard Salonga (brother)\\nManiya Barredo (cous...\n",
       "                             ...                        \n",
       "738                                                  NaN\n",
       "739                                                  NaN\n",
       "740                                                  NaN\n",
       "741                                                  NaN\n",
       "742                                                  NaN\n",
       "Name: relatives, Length: 743, dtype: object"
      ]
     },
     "execution_count": 8,
     "metadata": {},
     "output_type": "execute_result"
    }
   ],
   "source": [
    "finale = pd.read_csv(\"broadway - final_perf_details.csv\")\n",
    "finale.relatives"
   ]
  },
  {
   "cell_type": "code",
   "execution_count": 13,
   "metadata": {},
   "outputs": [],
   "source": [
    "finale['relative type'] = [str(rel).split(\"(\")[-1].split(\")\")[0] for rel in finale.relatives]\n",
    "finale['relatives'] = [str(rel).split(\"(\")[0] for rel in finale.relatives]"
   ]
  },
  {
   "cell_type": "code",
   "execution_count": 3,
   "metadata": {},
   "outputs": [
    {
     "data": {
      "text/html": [
       "<div>\n",
       "<style scoped>\n",
       "    .dataframe tbody tr th:only-of-type {\n",
       "        vertical-align: middle;\n",
       "    }\n",
       "\n",
       "    .dataframe tbody tr th {\n",
       "        vertical-align: top;\n",
       "    }\n",
       "\n",
       "    .dataframe thead th {\n",
       "        text-align: right;\n",
       "    }\n",
       "</style>\n",
       "<table border=\"1\" class=\"dataframe\">\n",
       "  <thead>\n",
       "    <tr style=\"text-align: right;\">\n",
       "      <th></th>\n",
       "      <th>actor</th>\n",
       "      <th>opening night</th>\n",
       "      <th>show</th>\n",
       "      <th>wikipedia link</th>\n",
       "      <th>terminal school</th>\n",
       "      <th>school (2)</th>\n",
       "      <th>relatives</th>\n",
       "      <th>theater credits</th>\n",
       "      <th>film credits</th>\n",
       "      <th>tv credits</th>\n",
       "      <th>screen credits before opening night</th>\n",
       "      <th>screen credits after opening night</th>\n",
       "    </tr>\n",
       "  </thead>\n",
       "  <tbody>\n",
       "    <tr>\n",
       "      <th>0</th>\n",
       "      <td>Christopher Jackson</td>\n",
       "      <td>1997</td>\n",
       "      <td>The Lion King</td>\n",
       "      <td>NaN</td>\n",
       "      <td>American Musical and Dramatic Academy (AMDA)</td>\n",
       "      <td>NaN</td>\n",
       "      <td>NaN</td>\n",
       "      <td>16.0</td>\n",
       "      <td>8.0</td>\n",
       "      <td>15.0</td>\n",
       "      <td>0.0</td>\n",
       "      <td>23.0</td>\n",
       "    </tr>\n",
       "    <tr>\n",
       "      <th>1</th>\n",
       "      <td>Anthony Ramos</td>\n",
       "      <td>2015</td>\n",
       "      <td>Hamilton</td>\n",
       "      <td>https://en.wikipedia.org/wiki/Anthony_Ramos</td>\n",
       "      <td>American Musical and Dramatic Academy (AMDA)</td>\n",
       "      <td>NaN</td>\n",
       "      <td>NaN</td>\n",
       "      <td>9.0</td>\n",
       "      <td>16.0</td>\n",
       "      <td>12.0</td>\n",
       "      <td>1.0</td>\n",
       "      <td>27.0</td>\n",
       "    </tr>\n",
       "    <tr>\n",
       "      <th>2</th>\n",
       "      <td>Caissie Levy</td>\n",
       "      <td>2022</td>\n",
       "      <td>Leopoldstadt</td>\n",
       "      <td>https://en.wikipedia.org/wiki/Caissie_Levy</td>\n",
       "      <td>American Musical and Dramatic Academy (AMDA)</td>\n",
       "      <td>NaN</td>\n",
       "      <td>NaN</td>\n",
       "      <td>12.0</td>\n",
       "      <td>2.0</td>\n",
       "      <td>6.0</td>\n",
       "      <td>7.0</td>\n",
       "      <td>0.0</td>\n",
       "    </tr>\n",
       "    <tr>\n",
       "      <th>3</th>\n",
       "      <td>Clifton Davis</td>\n",
       "      <td>2014</td>\n",
       "      <td>Aladdin</td>\n",
       "      <td>https://en.wikipedia.org/wiki/Clifton_Davis</td>\n",
       "      <td>Andrews University</td>\n",
       "      <td>NaN</td>\n",
       "      <td>NaN</td>\n",
       "      <td>NaN</td>\n",
       "      <td>12.0</td>\n",
       "      <td>42.0</td>\n",
       "      <td>47.0</td>\n",
       "      <td>7.0</td>\n",
       "    </tr>\n",
       "    <tr>\n",
       "      <th>4</th>\n",
       "      <td>Lea Salonga</td>\n",
       "      <td>2023</td>\n",
       "      <td>Here Lies Love</td>\n",
       "      <td>https://en.wikipedia.org/wiki/Lea_Salonga</td>\n",
       "      <td>Ateneo de Manila University</td>\n",
       "      <td>NaN</td>\n",
       "      <td>Gerard Salonga (brother)\\nManiya Barredo (cous...</td>\n",
       "      <td>NaN</td>\n",
       "      <td>NaN</td>\n",
       "      <td>NaN</td>\n",
       "      <td>0.0</td>\n",
       "      <td>0.0</td>\n",
       "    </tr>\n",
       "    <tr>\n",
       "      <th>...</th>\n",
       "      <td>...</td>\n",
       "      <td>...</td>\n",
       "      <td>...</td>\n",
       "      <td>...</td>\n",
       "      <td>...</td>\n",
       "      <td>...</td>\n",
       "      <td>...</td>\n",
       "      <td>...</td>\n",
       "      <td>...</td>\n",
       "      <td>...</td>\n",
       "      <td>...</td>\n",
       "      <td>...</td>\n",
       "    </tr>\n",
       "    <tr>\n",
       "      <th>738</th>\n",
       "      <td>Winsome Brown</td>\n",
       "      <td>2023</td>\n",
       "      <td>Grey House</td>\n",
       "      <td>NaN</td>\n",
       "      <td>NaN</td>\n",
       "      <td>NaN</td>\n",
       "      <td>NaN</td>\n",
       "      <td>NaN</td>\n",
       "      <td>NaN</td>\n",
       "      <td>NaN</td>\n",
       "      <td>NaN</td>\n",
       "      <td>NaN</td>\n",
       "    </tr>\n",
       "    <tr>\n",
       "      <th>739</th>\n",
       "      <td>Wonza Johnson</td>\n",
       "      <td>2022</td>\n",
       "      <td>MJ The Musical</td>\n",
       "      <td>NaN</td>\n",
       "      <td>NaN</td>\n",
       "      <td>NaN</td>\n",
       "      <td>NaN</td>\n",
       "      <td>NaN</td>\n",
       "      <td>NaN</td>\n",
       "      <td>NaN</td>\n",
       "      <td>NaN</td>\n",
       "      <td>NaN</td>\n",
       "    </tr>\n",
       "    <tr>\n",
       "      <th>740</th>\n",
       "      <td>Yurel Echezarreta</td>\n",
       "      <td>2014</td>\n",
       "      <td>Aladdin</td>\n",
       "      <td>NaN</td>\n",
       "      <td>NaN</td>\n",
       "      <td>NaN</td>\n",
       "      <td>NaN</td>\n",
       "      <td>NaN</td>\n",
       "      <td>NaN</td>\n",
       "      <td>NaN</td>\n",
       "      <td>NaN</td>\n",
       "      <td>NaN</td>\n",
       "    </tr>\n",
       "    <tr>\n",
       "      <th>741</th>\n",
       "      <td>Yvette Gonzalez-Nacer</td>\n",
       "      <td>2019</td>\n",
       "      <td>Hadestown</td>\n",
       "      <td>NaN</td>\n",
       "      <td>NaN</td>\n",
       "      <td>NaN</td>\n",
       "      <td>NaN</td>\n",
       "      <td>NaN</td>\n",
       "      <td>NaN</td>\n",
       "      <td>NaN</td>\n",
       "      <td>NaN</td>\n",
       "      <td>NaN</td>\n",
       "    </tr>\n",
       "    <tr>\n",
       "      <th>742</th>\n",
       "      <td>Zelig Williams</td>\n",
       "      <td>2022</td>\n",
       "      <td>MJ The Musical</td>\n",
       "      <td>NaN</td>\n",
       "      <td>NaN</td>\n",
       "      <td>NaN</td>\n",
       "      <td>NaN</td>\n",
       "      <td>NaN</td>\n",
       "      <td>NaN</td>\n",
       "      <td>NaN</td>\n",
       "      <td>NaN</td>\n",
       "      <td>NaN</td>\n",
       "    </tr>\n",
       "  </tbody>\n",
       "</table>\n",
       "<p>743 rows × 12 columns</p>\n",
       "</div>"
      ],
      "text/plain": [
       "                     actor  opening night            show  \\\n",
       "0      Christopher Jackson           1997   The Lion King   \n",
       "1            Anthony Ramos           2015        Hamilton   \n",
       "2             Caissie Levy           2022    Leopoldstadt   \n",
       "3            Clifton Davis           2014         Aladdin   \n",
       "4              Lea Salonga           2023  Here Lies Love   \n",
       "..                     ...            ...             ...   \n",
       "738          Winsome Brown           2023      Grey House   \n",
       "739          Wonza Johnson           2022  MJ The Musical   \n",
       "740      Yurel Echezarreta           2014         Aladdin   \n",
       "741  Yvette Gonzalez-Nacer           2019       Hadestown   \n",
       "742         Zelig Williams           2022  MJ The Musical   \n",
       "\n",
       "                                  wikipedia link  \\\n",
       "0                                            NaN   \n",
       "1    https://en.wikipedia.org/wiki/Anthony_Ramos   \n",
       "2     https://en.wikipedia.org/wiki/Caissie_Levy   \n",
       "3    https://en.wikipedia.org/wiki/Clifton_Davis   \n",
       "4      https://en.wikipedia.org/wiki/Lea_Salonga   \n",
       "..                                           ...   \n",
       "738                                          NaN   \n",
       "739                                          NaN   \n",
       "740                                          NaN   \n",
       "741                                          NaN   \n",
       "742                                          NaN   \n",
       "\n",
       "                                  terminal school school (2)  \\\n",
       "0    American Musical and Dramatic Academy (AMDA)        NaN   \n",
       "1    American Musical and Dramatic Academy (AMDA)        NaN   \n",
       "2    American Musical and Dramatic Academy (AMDA)        NaN   \n",
       "3                              Andrews University        NaN   \n",
       "4                     Ateneo de Manila University        NaN   \n",
       "..                                            ...        ...   \n",
       "738                                           NaN        NaN   \n",
       "739                                           NaN        NaN   \n",
       "740                                           NaN        NaN   \n",
       "741                                           NaN        NaN   \n",
       "742                                           NaN        NaN   \n",
       "\n",
       "                                             relatives  theater credits  \\\n",
       "0                                                  NaN             16.0   \n",
       "1                                                  NaN              9.0   \n",
       "2                                                  NaN             12.0   \n",
       "3                                                  NaN              NaN   \n",
       "4    Gerard Salonga (brother)\\nManiya Barredo (cous...              NaN   \n",
       "..                                                 ...              ...   \n",
       "738                                                NaN              NaN   \n",
       "739                                                NaN              NaN   \n",
       "740                                                NaN              NaN   \n",
       "741                                                NaN              NaN   \n",
       "742                                                NaN              NaN   \n",
       "\n",
       "     film credits  tv credits  screen credits before opening night  \\\n",
       "0             8.0        15.0                                  0.0   \n",
       "1            16.0        12.0                                  1.0   \n",
       "2             2.0         6.0                                  7.0   \n",
       "3            12.0        42.0                                 47.0   \n",
       "4             NaN         NaN                                  0.0   \n",
       "..            ...         ...                                  ...   \n",
       "738           NaN         NaN                                  NaN   \n",
       "739           NaN         NaN                                  NaN   \n",
       "740           NaN         NaN                                  NaN   \n",
       "741           NaN         NaN                                  NaN   \n",
       "742           NaN         NaN                                  NaN   \n",
       "\n",
       "     screen credits after opening night  \n",
       "0                                  23.0  \n",
       "1                                  27.0  \n",
       "2                                   0.0  \n",
       "3                                   7.0  \n",
       "4                                   0.0  \n",
       "..                                  ...  \n",
       "738                                 NaN  \n",
       "739                                 NaN  \n",
       "740                                 NaN  \n",
       "741                                 NaN  \n",
       "742                                 NaN  \n",
       "\n",
       "[743 rows x 12 columns]"
      ]
     },
     "execution_count": 3,
     "metadata": {},
     "output_type": "execute_result"
    }
   ],
   "source": [
    "vizdf = pd.read_csv(\"broadway - final_perf_details.csv\")\n",
    "vizdf"
   ]
  },
  {
   "cell_type": "code",
   "execution_count": 33,
   "metadata": {},
   "outputs": [
    {
     "data": {
      "text/html": [
       "<div>\n",
       "<style scoped>\n",
       "    .dataframe tbody tr th:only-of-type {\n",
       "        vertical-align: middle;\n",
       "    }\n",
       "\n",
       "    .dataframe tbody tr th {\n",
       "        vertical-align: top;\n",
       "    }\n",
       "\n",
       "    .dataframe thead th {\n",
       "        text-align: right;\n",
       "    }\n",
       "</style>\n",
       "<table border=\"1\" class=\"dataframe\">\n",
       "  <thead>\n",
       "    <tr style=\"text-align: right;\">\n",
       "      <th></th>\n",
       "      <th>actor</th>\n",
       "      <th>show</th>\n",
       "      <th>opening night</th>\n",
       "      <th>screen credits before opening night</th>\n",
       "    </tr>\n",
       "  </thead>\n",
       "  <tbody>\n",
       "    <tr>\n",
       "      <th>0</th>\n",
       "      <td>Christopher Jackson</td>\n",
       "      <td>The Lion King</td>\n",
       "      <td>1997</td>\n",
       "      <td>0</td>\n",
       "    </tr>\n",
       "    <tr>\n",
       "      <th>1</th>\n",
       "      <td>Anthony Ramos</td>\n",
       "      <td>Hamilton</td>\n",
       "      <td>2015</td>\n",
       "      <td>1</td>\n",
       "    </tr>\n",
       "    <tr>\n",
       "      <th>2</th>\n",
       "      <td>Caissie Levy</td>\n",
       "      <td>Leopoldstadt</td>\n",
       "      <td>2022</td>\n",
       "      <td>7</td>\n",
       "    </tr>\n",
       "    <tr>\n",
       "      <th>3</th>\n",
       "      <td>Clifton Davis</td>\n",
       "      <td>Aladdin</td>\n",
       "      <td>2014</td>\n",
       "      <td>47</td>\n",
       "    </tr>\n",
       "    <tr>\n",
       "      <th>4</th>\n",
       "      <td>Lea Salonga</td>\n",
       "      <td>Here Lies Love</td>\n",
       "      <td>2023</td>\n",
       "      <td>0</td>\n",
       "    </tr>\n",
       "    <tr>\n",
       "      <th>...</th>\n",
       "      <td>...</td>\n",
       "      <td>...</td>\n",
       "      <td>...</td>\n",
       "      <td>...</td>\n",
       "    </tr>\n",
       "    <tr>\n",
       "      <th>676</th>\n",
       "      <td>Richard Gallagher</td>\n",
       "      <td>Harry Potter and the Cursed Child, Parts One a...</td>\n",
       "      <td>2018</td>\n",
       "      <td>0</td>\n",
       "    </tr>\n",
       "    <tr>\n",
       "      <th>677</th>\n",
       "      <td>Robyn Hurder</td>\n",
       "      <td>Moulin Rouge! The Musical</td>\n",
       "      <td>2019</td>\n",
       "      <td>0</td>\n",
       "    </tr>\n",
       "    <tr>\n",
       "      <th>705</th>\n",
       "      <td>Seth Stewart</td>\n",
       "      <td>Hamilton</td>\n",
       "      <td>2015</td>\n",
       "      <td>3</td>\n",
       "    </tr>\n",
       "    <tr>\n",
       "      <th>728</th>\n",
       "      <td>Tatiana Maslany</td>\n",
       "      <td>Grey House</td>\n",
       "      <td>2023</td>\n",
       "      <td>65</td>\n",
       "    </tr>\n",
       "    <tr>\n",
       "      <th>737</th>\n",
       "      <td>William Michals</td>\n",
       "      <td>Parade</td>\n",
       "      <td>2023</td>\n",
       "      <td>3</td>\n",
       "    </tr>\n",
       "  </tbody>\n",
       "</table>\n",
       "<p>174 rows × 4 columns</p>\n",
       "</div>"
      ],
      "text/plain": [
       "                   actor                                               show  \\\n",
       "0    Christopher Jackson                                      The Lion King   \n",
       "1          Anthony Ramos                                           Hamilton   \n",
       "2           Caissie Levy                                       Leopoldstadt   \n",
       "3          Clifton Davis                                            Aladdin   \n",
       "4            Lea Salonga                                     Here Lies Love   \n",
       "..                   ...                                                ...   \n",
       "676    Richard Gallagher  Harry Potter and the Cursed Child, Parts One a...   \n",
       "677         Robyn Hurder                          Moulin Rouge! The Musical   \n",
       "705         Seth Stewart                                           Hamilton   \n",
       "728      Tatiana Maslany                                         Grey House   \n",
       "737      William Michals                                             Parade   \n",
       "\n",
       "     opening night  screen credits before opening night  \n",
       "0             1997                                    0  \n",
       "1             2015                                    1  \n",
       "2             2022                                    7  \n",
       "3             2014                                   47  \n",
       "4             2023                                    0  \n",
       "..             ...                                  ...  \n",
       "676           2018                                    0  \n",
       "677           2019                                    0  \n",
       "705           2015                                    3  \n",
       "728           2023                                   65  \n",
       "737           2023                                    3  \n",
       "\n",
       "[174 rows x 4 columns]"
      ]
     },
     "execution_count": 33,
     "metadata": {},
     "output_type": "execute_result"
    }
   ],
   "source": [
    "scatterdf = vizdf[[\"actor\", \"show\", \"opening night\", \"screen credits before opening night\"]]\n",
    "scatterdf.dropna(inplace=True)\n",
    "scatterdf[\"screen credits before opening night\"] = scatterdf[\"screen credits before opening night\"].astype(int)\n",
    "scatterdf[\"opening night\"] = scatterdf[\"opening night\"].astype(int)\n",
    "scatterdf\n"
   ]
  },
  {
   "cell_type": "code",
   "execution_count": 215,
   "metadata": {},
   "outputs": [
    {
     "data": {
      "application/vnd.plotly.v1+json": {
       "config": {
        "displayModeBar": false,
        "plotlyServerURL": "https://plot.ly"
       },
       "data": [
        {
         "customdata": [
          "Christopher Jackson",
          "Anthony Ramos",
          "Caissie Levy",
          "Clifton Davis",
          "Lea Salonga",
          "Colton Ryan",
          "Jasmine Cephas Jones",
          "Jennifer Simard",
          "Alex Wyse",
          "Myles Frost",
          "Will Swenson",
          "Daveed Diggs",
          "Miriam Silverman",
          "Melissa Fahn",
          "James Monroe Iglehart",
          "Christian Borle",
          "Emily Skinner",
          "Grey Henson",
          "Josh Gad",
          "Rory O'Malley",
          "Susan Heyward",
          "Linda Powell",
          "Ben Platt",
          "Denise Faye",
          "Jane Lynch",
          "Adam Godley",
          "Alex Newell",
          "Alex Price",
          "Ann Reinking",
          "Ariana DeBose",
          "Brooklyn Shuck",
          "Carole Shelley",
          "Caroline Innerbichler",
          "Clyde Alves",
          "Colleen Fitzpatrick",
          "David Krumholtz",
          "Ericka Hunter",
          "Eva Noblezada",
          "Gaten Matarazzo",
          "Glenn Fitzgerald",
          "Jeremiah James",
          "Jodie Comer",
          "Joel Grey",
          "Jonathan Groff",
          "Jordan Fisher",
          "Josh Groban",
          "Justin Cooley",
          "Kevyn Morrow",
          "Leigh Zimmerman",
          "Marcia Lewis",
          "Max Casella",
          "Melanie La Barrie",
          "Mia Sinclair Jenness",
          "Michael Berresse",
          "Millicent Simmonds",
          "Neil Haskell",
          "Neil Patrick Harris",
          "Ramin Karimloo",
          "Ryan Steele",
          "Sahr Ngaujah",
          "Sam Clemmett",
          "Sophia Anne Caruso",
          "William Youmans",
          "Taylor Trensch",
          "Janet Dacal",
          "Ephraim Sykes",
          "Emily Bergl",
          "Tam Mutu",
          "Laurie Metcalf",
          "Sean Hayes",
          "Aaron Tveit",
          "Michelle Federer",
          "Eddie Cooper",
          "Bebe Neuwirth",
          "Ben Rappaport",
          "Betsy Struxness",
          "Oscar Isaac",
          "Phillipa Soo",
          "Seth Numrich",
          "Steven Boyer",
          "Tom Alan Robbins",
          "Henry Shields",
          "Andrew Rannells",
          "Annaleigh Ashford",
          "Emmy Raver-Lampman",
          "Justin Guarini",
          "Alli Mauzey",
          "Amber Gray",
          "André De Shields",
          "Arielle Jacobs",
          "Asmeret Ghebremichael",
          "Brandon Uranowitz",
          "Idina Menzel",
          "Javier Muñoz",
          "Jay Armstrong Johnson",
          "Julie Benko",
          "Kevin Cahoon",
          "Manoel Felciano",
          "Marchánt Davis",
          "Paul Sparks",
          "Rachel Brosnahan",
          "Victoria Clark",
          "Adam Jacobs",
          "Betsy Aidem",
          "Dakin Matthews",
          "Jared Gertner",
          "Nikki M. James",
          "Ruthie Ann Miles",
          "Ryann Redmond",
          "Angie Schworer",
          "Alex Weisman",
          "Madeline Weinstein",
          "Michael McCormick",
          "Peter Grosz",
          "Bonnie Milligan",
          "Jonathan Freeman",
          "Kristin Chenoweth",
          "Sasha Hutchings",
          "Jordan Donica",
          "Paul Alexander Nolan",
          "Courtney Reed",
          "Hiran Abeysekera",
          "Jamie Parker",
          "Anthony Boyle",
          "Martin Moran",
          "Andrea Macasaet",
          "Norbert Leo Butz",
          "John Vickery",
          "Daisuke Tsuji",
          "Geraldine Hughes",
          "Danny Burstein",
          "Howard McGillin",
          "Poppy Miller",
          "Betsy Wolfe",
          "Karen Olivo",
          "Kristy Cates",
          "Lewis Cleale",
          "Lorna Courtney",
          "Brooke Dillman",
          "Adrianna Hicks",
          "Quentin Earl Darrington",
          "Briga Heelan",
          "Erica Dasher",
          "Renée Elise Goldsberry",
          "Stark Sands",
          "Reeve Carney",
          "Conrad Ricamora",
          "Kelli Barrett",
          "Sara Topham",
          "Sean Allan Krill",
          "Michael James Scott",
          "Beanie Feldstein",
          "Lin-Manuel Miranda",
          "John Behlmann",
          "Lauren Zakrin",
          "Patrick Page",
          "Andrew Burnap",
          "Brian Tyree Henry",
          "James Naughton",
          "Becky Gulsvig",
          "Betsy Morgan",
          "Heather Headley",
          "Marisha Wallace",
          "Micaela Diamond",
          "Michael Potts",
          "Nikki Crawford",
          "Noma Dumezweni",
          "Okieriete Onaodowan",
          "Peter Francis James",
          "Richard Gallagher",
          "Robyn Hurder",
          "Seth Stewart",
          "Tatiana Maslany",
          "William Michals"
         ],
         "hovertemplate": "<b>%{customdata}</b> <br><br>%{y}<br>%{x} screen credits",
         "legendgroup": "",
         "marker": {
          "color": "#FFDD83",
          "opacity": 1,
          "size": [
           0,
           1,
           7,
           47,
           0,
           9,
           5,
           12,
           16,
           4,
           21,
           4,
           10,
           18,
           6,
           33,
           0,
           3,
           22,
           1,
           17,
           9,
           27,
           0,
           0,
           62,
           0,
           24,
           7,
           2,
           0,
           27,
           0,
           0,
           0,
           99,
           5,
           1,
           12,
           39,
           0,
           29,
           51,
           16,
           15,
           36,
           0,
           18,
           1,
           0,
           12,
           2,
           0,
           0,
           6,
           0,
           108,
           12,
           8,
           24,
           8,
           6,
           5,
           0,
           0,
           0,
           47,
           7,
           0,
           57,
           22,
           1,
           0,
           19,
           16,
           0,
           0,
           3,
           0,
           36,
           9,
           0,
           18,
           44,
           0,
           3,
           0,
           5,
           0,
           0,
           6,
           11,
           3,
           2,
           4,
           1,
           1,
           6,
           0,
           47,
           44,
           25,
           4,
           0,
           72,
           3,
           7,
           4,
           4,
           0,
           0,
           7,
           0,
           31,
           0,
           26,
           10,
           1,
           3,
           9,
           7,
           8,
           20,
           5,
           0,
           1,
           5,
           0,
           15,
           19,
           46,
           0,
           26,
           7,
           0,
           0,
           0,
           0,
           51,
           0,
           0,
           8,
           15,
           26,
           27,
           10,
           6,
           29,
           0,
           8,
           1,
           20,
           17,
           20,
           2,
           15,
           9,
           3,
           0,
           0,
           0,
           1,
           0,
           8,
           19,
           0,
           23,
           4,
           33,
           0,
           0,
           3,
           65,
           3
          ],
          "sizemode": "area",
          "sizeref": 0.27,
          "symbol": "circle"
         },
         "mode": "markers",
         "name": "",
         "orientation": "h",
         "showlegend": false,
         "type": "scatter",
         "x": [
          0,
          1,
          7,
          47,
          0,
          9,
          5,
          12,
          16,
          4,
          21,
          4,
          10,
          18,
          6,
          33,
          0,
          3,
          22,
          1,
          17,
          9,
          27,
          0,
          0,
          62,
          0,
          24,
          7,
          2,
          0,
          27,
          0,
          0,
          0,
          99,
          5,
          1,
          12,
          39,
          0,
          29,
          51,
          16,
          15,
          36,
          0,
          18,
          1,
          0,
          12,
          2,
          0,
          0,
          6,
          0,
          108,
          12,
          8,
          24,
          8,
          6,
          5,
          0,
          0,
          0,
          47,
          7,
          0,
          57,
          22,
          1,
          0,
          19,
          16,
          0,
          0,
          3,
          0,
          36,
          9,
          0,
          18,
          44,
          0,
          3,
          0,
          5,
          0,
          0,
          6,
          11,
          3,
          2,
          4,
          1,
          1,
          6,
          0,
          47,
          44,
          25,
          4,
          0,
          72,
          3,
          7,
          4,
          4,
          0,
          0,
          7,
          0,
          31,
          0,
          26,
          10,
          1,
          3,
          9,
          7,
          8,
          20,
          5,
          0,
          1,
          5,
          0,
          15,
          19,
          46,
          0,
          26,
          7,
          0,
          0,
          0,
          0,
          51,
          0,
          0,
          8,
          15,
          26,
          27,
          10,
          6,
          29,
          0,
          8,
          1,
          20,
          17,
          20,
          2,
          15,
          9,
          3,
          0,
          0,
          0,
          1,
          0,
          8,
          19,
          0,
          23,
          4,
          33,
          0,
          0,
          3,
          65,
          3
         ],
         "xaxis": "x",
         "y": [
          "The Lion King",
          "Hamilton",
          "Leopoldstadt",
          "Aladdin",
          "Here Lies Love",
          "New York, New York",
          "Hamilton",
          "Once Upon a One More Time",
          "Good Night, Oscar",
          "MJ The Musical",
          "A Beautiful Noise, The Neil Diamond Musical",
          "Hamilton",
          "The Sign in Sidney Brustein's Window",
          "Wicked",
          "Aladdin",
          "Some Like It Hot",
          "New York, New York",
          "Shucked",
          "The Book of Mormon",
          "The Book of Mormon",
          "Harry Potter and the Cursed Child, Parts One and Two",
          "A Beautiful Noise, The Neil Diamond Musical",
          "Parade",
          "Chicago",
          "Funny Girl",
          "Once Upon a One More Time",
          "Shucked",
          "Harry Potter and the Cursed Child, Parts One and Two",
          "Chicago",
          "Hamilton",
          "Harry Potter and the Cursed Child, Parts One and Two",
          "Wicked",
          "Shucked",
          "New York, New York",
          "Kimberly Akimbo",
          "Leopoldstadt",
          "Moulin Rouge! The Musical",
          "Hadestown",
          "Sweeney Todd",
          "The Sign in Sidney Brustein's Window",
          "Funny Girl",
          "Prima Facie",
          "Chicago",
          "Hamilton",
          "Sweeney Todd",
          "Sweeney Todd",
          "Kimberly Akimbo",
          "Moulin Rouge! The Musical",
          "Chicago",
          "Chicago",
          "The Lion King",
          "& Juliet",
          "Grey House",
          "Chicago",
          "Grey House",
          "Hamilton",
          "Peter Pan Goes Wrong",
          "Funny Girl",
          "Once Upon a One More Time",
          "Moulin Rouge! The Musical",
          "Harry Potter and the Cursed Child, Parts One and Two",
          "Grey House",
          "Wicked",
          "Camelot",
          "New York, New York",
          "Hamilton",
          "Good Night, Oscar",
          "Moulin Rouge! The Musical",
          "Grey House",
          "Good Night, Oscar",
          "Moulin Rouge! The Musical",
          "Wicked",
          "Parade",
          "Chicago",
          "Good Night, Oscar",
          "Hamilton",
          "The Sign in Sidney Brustein's Window",
          "Hamilton",
          "Leopoldstadt",
          "Kimberly Akimbo",
          "The Lion King",
          "Peter Pan Goes Wrong",
          "The Book of Mormon",
          "Sweeney Todd",
          "Hamilton",
          "Once Upon a One More Time",
          "Kimberly Akimbo",
          "Hadestown",
          "Hadestown",
          "Here Lies Love",
          "The Book of Mormon",
          "Leopoldstadt",
          "Wicked",
          "Hamilton",
          "Parade",
          "Funny Girl",
          "The Lion King",
          "Parade",
          "Good Night, Oscar",
          "Grey House",
          "The Sign in Sidney Brustein's Window",
          "Kimberly Akimbo",
          "Aladdin",
          "Leopoldstadt",
          "Camelot",
          "The Book of Mormon",
          "The Book of Mormon",
          "Sweeney Todd",
          "Once Upon a One More Time",
          "Some Like It Hot",
          "Harry Potter and the Cursed Child, Parts One and Two",
          "Harry Potter and the Cursed Child, Parts One and Two",
          "A Beautiful Noise, The Neil Diamond Musical",
          "Good Night, Oscar",
          "Kimberly Akimbo",
          "Aladdin",
          "Wicked",
          "Hamilton",
          "Camelot",
          "Parade",
          "Aladdin",
          "Life of Pi",
          "Harry Potter and the Cursed Child, Parts One and Two",
          "Harry Potter and the Cursed Child, Parts One and Two",
          "Funny Girl",
          "Six",
          "Wicked",
          "The Lion King",
          "Life of Pi",
          "Harry Potter and the Cursed Child, Parts One and Two",
          "Moulin Rouge! The Musical",
          "Parade",
          "Harry Potter and the Cursed Child, Parts One and Two",
          "& Juliet",
          "Moulin Rouge! The Musical",
          "Wicked",
          "The Book of Mormon",
          "& Juliet",
          "Once Upon a One More Time",
          "Six",
          "MJ The Musical",
          "Once Upon a One More Time",
          "Leopoldstadt",
          "Hamilton",
          "& Juliet",
          "Hadestown",
          "Here Lies Love",
          "Parade",
          "Leopoldstadt",
          "Parade",
          "The Book of Mormon",
          "Funny Girl",
          "Hamilton",
          "Shucked",
          "Once Upon a One More Time",
          "Hadestown",
          "Camelot",
          "The Book of Mormon",
          "Chicago",
          "A Beautiful Noise, The Neil Diamond Musical",
          "Kimberly Akimbo",
          "The Lion King",
          "Aladdin",
          "Parade",
          "The Book of Mormon",
          "Fat Ham",
          "Harry Potter and the Cursed Child, Parts One and Two",
          "Hamilton",
          "Funny Girl",
          "Harry Potter and the Cursed Child, Parts One and Two",
          "Moulin Rouge! The Musical",
          "Hamilton",
          "Grey House",
          "Parade"
         ],
         "yaxis": "y"
        }
       ],
       "layout": {
        "height": 1200,
        "hoverlabel": {
         "bgcolor": "#FFDD83",
         "bordercolor": "white",
         "font": {
          "color": "black"
         }
        },
        "legend": {
         "itemsizing": "constant",
         "tracegroupgap": 0
        },
        "margin": {
         "b": 0,
         "l": 0,
         "r": 0,
         "t": 0
        },
        "scattergap": 1,
        "scattermode": "group",
        "template": {
         "data": {
          "bar": [
           {
            "error_x": {
             "color": "#2a3f5f"
            },
            "error_y": {
             "color": "#2a3f5f"
            },
            "marker": {
             "line": {
              "color": "white",
              "width": 0.5
             },
             "pattern": {
              "fillmode": "overlay",
              "size": 10,
              "solidity": 0.2
             }
            },
            "type": "bar"
           }
          ],
          "barpolar": [
           {
            "marker": {
             "line": {
              "color": "white",
              "width": 0.5
             },
             "pattern": {
              "fillmode": "overlay",
              "size": 10,
              "solidity": 0.2
             }
            },
            "type": "barpolar"
           }
          ],
          "carpet": [
           {
            "aaxis": {
             "endlinecolor": "#2a3f5f",
             "gridcolor": "#C8D4E3",
             "linecolor": "#C8D4E3",
             "minorgridcolor": "#C8D4E3",
             "startlinecolor": "#2a3f5f"
            },
            "baxis": {
             "endlinecolor": "#2a3f5f",
             "gridcolor": "#C8D4E3",
             "linecolor": "#C8D4E3",
             "minorgridcolor": "#C8D4E3",
             "startlinecolor": "#2a3f5f"
            },
            "type": "carpet"
           }
          ],
          "choropleth": [
           {
            "colorbar": {
             "outlinewidth": 0,
             "ticks": ""
            },
            "type": "choropleth"
           }
          ],
          "contour": [
           {
            "colorbar": {
             "outlinewidth": 0,
             "ticks": ""
            },
            "colorscale": [
             [
              0,
              "#0d0887"
             ],
             [
              0.1111111111111111,
              "#46039f"
             ],
             [
              0.2222222222222222,
              "#7201a8"
             ],
             [
              0.3333333333333333,
              "#9c179e"
             ],
             [
              0.4444444444444444,
              "#bd3786"
             ],
             [
              0.5555555555555556,
              "#d8576b"
             ],
             [
              0.6666666666666666,
              "#ed7953"
             ],
             [
              0.7777777777777778,
              "#fb9f3a"
             ],
             [
              0.8888888888888888,
              "#fdca26"
             ],
             [
              1,
              "#f0f921"
             ]
            ],
            "type": "contour"
           }
          ],
          "contourcarpet": [
           {
            "colorbar": {
             "outlinewidth": 0,
             "ticks": ""
            },
            "type": "contourcarpet"
           }
          ],
          "heatmap": [
           {
            "colorbar": {
             "outlinewidth": 0,
             "ticks": ""
            },
            "colorscale": [
             [
              0,
              "#0d0887"
             ],
             [
              0.1111111111111111,
              "#46039f"
             ],
             [
              0.2222222222222222,
              "#7201a8"
             ],
             [
              0.3333333333333333,
              "#9c179e"
             ],
             [
              0.4444444444444444,
              "#bd3786"
             ],
             [
              0.5555555555555556,
              "#d8576b"
             ],
             [
              0.6666666666666666,
              "#ed7953"
             ],
             [
              0.7777777777777778,
              "#fb9f3a"
             ],
             [
              0.8888888888888888,
              "#fdca26"
             ],
             [
              1,
              "#f0f921"
             ]
            ],
            "type": "heatmap"
           }
          ],
          "heatmapgl": [
           {
            "colorbar": {
             "outlinewidth": 0,
             "ticks": ""
            },
            "colorscale": [
             [
              0,
              "#0d0887"
             ],
             [
              0.1111111111111111,
              "#46039f"
             ],
             [
              0.2222222222222222,
              "#7201a8"
             ],
             [
              0.3333333333333333,
              "#9c179e"
             ],
             [
              0.4444444444444444,
              "#bd3786"
             ],
             [
              0.5555555555555556,
              "#d8576b"
             ],
             [
              0.6666666666666666,
              "#ed7953"
             ],
             [
              0.7777777777777778,
              "#fb9f3a"
             ],
             [
              0.8888888888888888,
              "#fdca26"
             ],
             [
              1,
              "#f0f921"
             ]
            ],
            "type": "heatmapgl"
           }
          ],
          "histogram": [
           {
            "marker": {
             "pattern": {
              "fillmode": "overlay",
              "size": 10,
              "solidity": 0.2
             }
            },
            "type": "histogram"
           }
          ],
          "histogram2d": [
           {
            "colorbar": {
             "outlinewidth": 0,
             "ticks": ""
            },
            "colorscale": [
             [
              0,
              "#0d0887"
             ],
             [
              0.1111111111111111,
              "#46039f"
             ],
             [
              0.2222222222222222,
              "#7201a8"
             ],
             [
              0.3333333333333333,
              "#9c179e"
             ],
             [
              0.4444444444444444,
              "#bd3786"
             ],
             [
              0.5555555555555556,
              "#d8576b"
             ],
             [
              0.6666666666666666,
              "#ed7953"
             ],
             [
              0.7777777777777778,
              "#fb9f3a"
             ],
             [
              0.8888888888888888,
              "#fdca26"
             ],
             [
              1,
              "#f0f921"
             ]
            ],
            "type": "histogram2d"
           }
          ],
          "histogram2dcontour": [
           {
            "colorbar": {
             "outlinewidth": 0,
             "ticks": ""
            },
            "colorscale": [
             [
              0,
              "#0d0887"
             ],
             [
              0.1111111111111111,
              "#46039f"
             ],
             [
              0.2222222222222222,
              "#7201a8"
             ],
             [
              0.3333333333333333,
              "#9c179e"
             ],
             [
              0.4444444444444444,
              "#bd3786"
             ],
             [
              0.5555555555555556,
              "#d8576b"
             ],
             [
              0.6666666666666666,
              "#ed7953"
             ],
             [
              0.7777777777777778,
              "#fb9f3a"
             ],
             [
              0.8888888888888888,
              "#fdca26"
             ],
             [
              1,
              "#f0f921"
             ]
            ],
            "type": "histogram2dcontour"
           }
          ],
          "mesh3d": [
           {
            "colorbar": {
             "outlinewidth": 0,
             "ticks": ""
            },
            "type": "mesh3d"
           }
          ],
          "parcoords": [
           {
            "line": {
             "colorbar": {
              "outlinewidth": 0,
              "ticks": ""
             }
            },
            "type": "parcoords"
           }
          ],
          "pie": [
           {
            "automargin": true,
            "type": "pie"
           }
          ],
          "scatter": [
           {
            "fillpattern": {
             "fillmode": "overlay",
             "size": 10,
             "solidity": 0.2
            },
            "type": "scatter"
           }
          ],
          "scatter3d": [
           {
            "line": {
             "colorbar": {
              "outlinewidth": 0,
              "ticks": ""
             }
            },
            "marker": {
             "colorbar": {
              "outlinewidth": 0,
              "ticks": ""
             }
            },
            "type": "scatter3d"
           }
          ],
          "scattercarpet": [
           {
            "marker": {
             "colorbar": {
              "outlinewidth": 0,
              "ticks": ""
             }
            },
            "type": "scattercarpet"
           }
          ],
          "scattergeo": [
           {
            "marker": {
             "colorbar": {
              "outlinewidth": 0,
              "ticks": ""
             }
            },
            "type": "scattergeo"
           }
          ],
          "scattergl": [
           {
            "marker": {
             "colorbar": {
              "outlinewidth": 0,
              "ticks": ""
             }
            },
            "type": "scattergl"
           }
          ],
          "scattermapbox": [
           {
            "marker": {
             "colorbar": {
              "outlinewidth": 0,
              "ticks": ""
             }
            },
            "type": "scattermapbox"
           }
          ],
          "scatterpolar": [
           {
            "marker": {
             "colorbar": {
              "outlinewidth": 0,
              "ticks": ""
             }
            },
            "type": "scatterpolar"
           }
          ],
          "scatterpolargl": [
           {
            "marker": {
             "colorbar": {
              "outlinewidth": 0,
              "ticks": ""
             }
            },
            "type": "scatterpolargl"
           }
          ],
          "scatterternary": [
           {
            "marker": {
             "colorbar": {
              "outlinewidth": 0,
              "ticks": ""
             }
            },
            "type": "scatterternary"
           }
          ],
          "surface": [
           {
            "colorbar": {
             "outlinewidth": 0,
             "ticks": ""
            },
            "colorscale": [
             [
              0,
              "#0d0887"
             ],
             [
              0.1111111111111111,
              "#46039f"
             ],
             [
              0.2222222222222222,
              "#7201a8"
             ],
             [
              0.3333333333333333,
              "#9c179e"
             ],
             [
              0.4444444444444444,
              "#bd3786"
             ],
             [
              0.5555555555555556,
              "#d8576b"
             ],
             [
              0.6666666666666666,
              "#ed7953"
             ],
             [
              0.7777777777777778,
              "#fb9f3a"
             ],
             [
              0.8888888888888888,
              "#fdca26"
             ],
             [
              1,
              "#f0f921"
             ]
            ],
            "type": "surface"
           }
          ],
          "table": [
           {
            "cells": {
             "fill": {
              "color": "#EBF0F8"
             },
             "line": {
              "color": "white"
             }
            },
            "header": {
             "fill": {
              "color": "#C8D4E3"
             },
             "line": {
              "color": "white"
             }
            },
            "type": "table"
           }
          ]
         },
         "layout": {
          "annotationdefaults": {
           "arrowcolor": "#2a3f5f",
           "arrowhead": 0,
           "arrowwidth": 1
          },
          "autotypenumbers": "strict",
          "coloraxis": {
           "colorbar": {
            "outlinewidth": 0,
            "ticks": ""
           }
          },
          "colorscale": {
           "diverging": [
            [
             0,
             "#8e0152"
            ],
            [
             0.1,
             "#c51b7d"
            ],
            [
             0.2,
             "#de77ae"
            ],
            [
             0.3,
             "#f1b6da"
            ],
            [
             0.4,
             "#fde0ef"
            ],
            [
             0.5,
             "#f7f7f7"
            ],
            [
             0.6,
             "#e6f5d0"
            ],
            [
             0.7,
             "#b8e186"
            ],
            [
             0.8,
             "#7fbc41"
            ],
            [
             0.9,
             "#4d9221"
            ],
            [
             1,
             "#276419"
            ]
           ],
           "sequential": [
            [
             0,
             "#0d0887"
            ],
            [
             0.1111111111111111,
             "#46039f"
            ],
            [
             0.2222222222222222,
             "#7201a8"
            ],
            [
             0.3333333333333333,
             "#9c179e"
            ],
            [
             0.4444444444444444,
             "#bd3786"
            ],
            [
             0.5555555555555556,
             "#d8576b"
            ],
            [
             0.6666666666666666,
             "#ed7953"
            ],
            [
             0.7777777777777778,
             "#fb9f3a"
            ],
            [
             0.8888888888888888,
             "#fdca26"
            ],
            [
             1,
             "#f0f921"
            ]
           ],
           "sequentialminus": [
            [
             0,
             "#0d0887"
            ],
            [
             0.1111111111111111,
             "#46039f"
            ],
            [
             0.2222222222222222,
             "#7201a8"
            ],
            [
             0.3333333333333333,
             "#9c179e"
            ],
            [
             0.4444444444444444,
             "#bd3786"
            ],
            [
             0.5555555555555556,
             "#d8576b"
            ],
            [
             0.6666666666666666,
             "#ed7953"
            ],
            [
             0.7777777777777778,
             "#fb9f3a"
            ],
            [
             0.8888888888888888,
             "#fdca26"
            ],
            [
             1,
             "#f0f921"
            ]
           ]
          },
          "colorway": [
           "#636efa",
           "#EF553B",
           "#00cc96",
           "#ab63fa",
           "#FFA15A",
           "#19d3f3",
           "#FF6692",
           "#B6E880",
           "#FF97FF",
           "#FECB52"
          ],
          "font": {
           "color": "#2a3f5f"
          },
          "geo": {
           "bgcolor": "white",
           "lakecolor": "white",
           "landcolor": "white",
           "showlakes": true,
           "showland": true,
           "subunitcolor": "#C8D4E3"
          },
          "hoverlabel": {
           "align": "left"
          },
          "hovermode": "closest",
          "mapbox": {
           "style": "light"
          },
          "paper_bgcolor": "white",
          "plot_bgcolor": "white",
          "polar": {
           "angularaxis": {
            "gridcolor": "#EBF0F8",
            "linecolor": "#EBF0F8",
            "ticks": ""
           },
           "bgcolor": "white",
           "radialaxis": {
            "gridcolor": "#EBF0F8",
            "linecolor": "#EBF0F8",
            "ticks": ""
           }
          },
          "scene": {
           "xaxis": {
            "backgroundcolor": "white",
            "gridcolor": "#DFE8F3",
            "gridwidth": 2,
            "linecolor": "#EBF0F8",
            "showbackground": true,
            "ticks": "",
            "zerolinecolor": "#EBF0F8"
           },
           "yaxis": {
            "backgroundcolor": "white",
            "gridcolor": "#DFE8F3",
            "gridwidth": 2,
            "linecolor": "#EBF0F8",
            "showbackground": true,
            "ticks": "",
            "zerolinecolor": "#EBF0F8"
           },
           "zaxis": {
            "backgroundcolor": "white",
            "gridcolor": "#DFE8F3",
            "gridwidth": 2,
            "linecolor": "#EBF0F8",
            "showbackground": true,
            "ticks": "",
            "zerolinecolor": "#EBF0F8"
           }
          },
          "shapedefaults": {
           "line": {
            "color": "#2a3f5f"
           }
          },
          "ternary": {
           "aaxis": {
            "gridcolor": "#DFE8F3",
            "linecolor": "#A2B1C6",
            "ticks": ""
           },
           "baxis": {
            "gridcolor": "#DFE8F3",
            "linecolor": "#A2B1C6",
            "ticks": ""
           },
           "bgcolor": "white",
           "caxis": {
            "gridcolor": "#DFE8F3",
            "linecolor": "#A2B1C6",
            "ticks": ""
           }
          },
          "title": {
           "x": 0.05
          },
          "xaxis": {
           "automargin": true,
           "gridcolor": "#EBF0F8",
           "linecolor": "#EBF0F8",
           "ticks": "",
           "title": {
            "standoff": 15
           },
           "zerolinecolor": "#EBF0F8",
           "zerolinewidth": 2
          },
          "yaxis": {
           "automargin": true,
           "gridcolor": "#EBF0F8",
           "linecolor": "#EBF0F8",
           "ticks": "",
           "title": {
            "standoff": 15
           },
           "zerolinecolor": "#EBF0F8",
           "zerolinewidth": 2
          }
         }
        },
        "xaxis": {
         "anchor": "y",
         "domain": [
          0,
          1
         ],
         "fixedrange": true,
         "title": {
          "text": "\nNumber of Screen Credits Before Opening Night"
         }
        },
        "yaxis": {
         "anchor": "x",
         "domain": [
          0,
          1
         ],
         "fixedrange": true,
         "title": {
          "text": "Show\n"
         }
        }
       }
      }
     },
     "metadata": {},
     "output_type": "display_data"
    }
   ],
   "source": [
    "import plotly.express as px\n",
    "# df = px.data.iris()\n",
    "fig = px.scatter(scatterdf, \n",
    "                 x=\"screen credits before opening night\", \n",
    "                 y=\"show\", \n",
    "                 size=\"screen credits before opening night\",\n",
    "                #  marginal_x=\"histogram\", \n",
    "                 color_discrete_sequence=[\"#FFDD83\"],\n",
    "                 template=\"plotly_white\",\n",
    "                 opacity=1,\n",
    "                 height=1200,\n",
    "                 )\n",
    "# fig.update_layout(showlegend=False) \n",
    "fig.update_layout(scattermode=\"group\", scattergap=1)\n",
    "fig.update_traces(\n",
    "    customdata=scatterdf[\"actor\"],\n",
    "    hovertemplate='<b>%{customdata}</b> <br><br>%{y}<br>%{x} screen credits')\n",
    "fig.update_layout(\n",
    "    hoverlabel=dict(\n",
    "        bgcolor=\"#FFDD83\",\n",
    "        bordercolor=\"white\",\n",
    "        font_color=\"black\",\n",
    "        # border_color=\"white\"\n",
    "    ),\n",
    "    xaxis={'title':'\\nNumber of Screen Credits Before Opening Night', 'fixedrange':True},\n",
    "    yaxis={'title':'Show\\n', 'fixedrange':True},\n",
    "    margin=dict(l=0, r=0, t=0, b=0),\n",
    ")\n",
    "# fig.update_layout(hovermode=\"x\")\n",
    "# fig.update_xaxes(showspikes=True, spikecolor=\"#FFDD83\", spikesnap=\"hovered data\", spikemode=\"across\", spikethickness=1)\n",
    "\n",
    "# Ticklabels wrap\n",
    "# import re,itertools\n",
    "\n",
    "# ylabels=[]\n",
    "# for label in scatterdf[\"show\"]:\n",
    "#     if len(label)>20:\n",
    "#         label = re.sub(' ', lambda m, c=itertools.count(): m.group() if next(c) % 3 else '<br>', label)\n",
    "\n",
    "#         # label = label.split(\" \")[:20] + '<br>' + label[20:]\n",
    "#     ylabels.append(label)\n",
    "\n",
    "# fig.update_yaxes(tickvals=scatterdf[\"show\"], ticktext=ylabels)\n",
    "                                                      \n",
    "\n",
    "fig.show(config={'displayModeBar': False})"
   ]
  },
  {
   "cell_type": "code",
   "execution_count": 216,
   "metadata": {},
   "outputs": [],
   "source": [
    "fig.write_html(\"../../../../tejalwakchoure.github.io/_includes/broadway-screen-credits.html\", \n",
    "               config={'displayModeBar': False, 'responsive': True},\n",
    "               include_plotlyjs=False, full_html=False)\n"
   ]
  },
  {
   "cell_type": "code",
   "execution_count": 93,
   "metadata": {},
   "outputs": [
    {
     "data": {
      "text/html": [
       "<div>\n",
       "<style scoped>\n",
       "    .dataframe tbody tr th:only-of-type {\n",
       "        vertical-align: middle;\n",
       "    }\n",
       "\n",
       "    .dataframe tbody tr th {\n",
       "        vertical-align: top;\n",
       "    }\n",
       "\n",
       "    .dataframe thead th {\n",
       "        text-align: right;\n",
       "    }\n",
       "</style>\n",
       "<table border=\"1\" class=\"dataframe\">\n",
       "  <thead>\n",
       "    <tr style=\"text-align: right;\">\n",
       "      <th></th>\n",
       "      <th>actor</th>\n",
       "      <th>terminal school</th>\n",
       "    </tr>\n",
       "  </thead>\n",
       "  <tbody>\n",
       "    <tr>\n",
       "      <th>0</th>\n",
       "      <td>Christopher Jackson</td>\n",
       "      <td>American Musical and Dramatic Academy (AMDA)</td>\n",
       "    </tr>\n",
       "    <tr>\n",
       "      <th>1</th>\n",
       "      <td>Anthony Ramos</td>\n",
       "      <td>American Musical and Dramatic Academy (AMDA)</td>\n",
       "    </tr>\n",
       "    <tr>\n",
       "      <th>2</th>\n",
       "      <td>Caissie Levy</td>\n",
       "      <td>American Musical and Dramatic Academy (AMDA)</td>\n",
       "    </tr>\n",
       "    <tr>\n",
       "      <th>3</th>\n",
       "      <td>Clifton Davis</td>\n",
       "      <td>Andrews University</td>\n",
       "    </tr>\n",
       "    <tr>\n",
       "      <th>4</th>\n",
       "      <td>Lea Salonga</td>\n",
       "      <td>Ateneo de Manila University</td>\n",
       "    </tr>\n",
       "    <tr>\n",
       "      <th>...</th>\n",
       "      <td>...</td>\n",
       "      <td>...</td>\n",
       "    </tr>\n",
       "    <tr>\n",
       "      <th>160</th>\n",
       "      <td>Lauren Zakrin</td>\n",
       "      <td>Western Michigan University</td>\n",
       "    </tr>\n",
       "    <tr>\n",
       "      <th>161</th>\n",
       "      <td>Patrick Page</td>\n",
       "      <td>Whitman College</td>\n",
       "    </tr>\n",
       "    <tr>\n",
       "      <th>162</th>\n",
       "      <td>Andrew Burnap</td>\n",
       "      <td>Yale University</td>\n",
       "    </tr>\n",
       "    <tr>\n",
       "      <th>163</th>\n",
       "      <td>Brian Tyree Henry</td>\n",
       "      <td>Yale University</td>\n",
       "    </tr>\n",
       "    <tr>\n",
       "      <th>164</th>\n",
       "      <td>James Naughton</td>\n",
       "      <td>Yale University</td>\n",
       "    </tr>\n",
       "  </tbody>\n",
       "</table>\n",
       "<p>165 rows × 2 columns</p>\n",
       "</div>"
      ],
      "text/plain": [
       "                   actor                               terminal school\n",
       "0    Christopher Jackson  American Musical and Dramatic Academy (AMDA)\n",
       "1          Anthony Ramos  American Musical and Dramatic Academy (AMDA)\n",
       "2           Caissie Levy  American Musical and Dramatic Academy (AMDA)\n",
       "3          Clifton Davis                            Andrews University\n",
       "4            Lea Salonga                   Ateneo de Manila University\n",
       "..                   ...                                           ...\n",
       "160        Lauren Zakrin                   Western Michigan University\n",
       "161         Patrick Page                               Whitman College\n",
       "162        Andrew Burnap                               Yale University\n",
       "163    Brian Tyree Henry                               Yale University\n",
       "164       James Naughton                               Yale University\n",
       "\n",
       "[165 rows x 2 columns]"
      ]
     },
     "execution_count": 93,
     "metadata": {},
     "output_type": "execute_result"
    }
   ],
   "source": [
    "sunburstdf = vizdf[[\"actor\", \"terminal school\"]]\n",
    "sunburstdf.dropna(inplace=True)\n",
    "sunburstdf\n",
    "# scatterdf[\"screen credits before opening night\"] = scatterdf[\"screen credits before opening night\"].astype(int)\n",
    "# scatterdf[\"opening night\"] = scatterdf[\"opening night\"].astype(int)\n",
    "# scatterdf"
   ]
  },
  {
   "cell_type": "code",
   "execution_count": 251,
   "metadata": {},
   "outputs": [
    {
     "data": {
      "text/html": [
       "<div>\n",
       "<style scoped>\n",
       "    .dataframe tbody tr th:only-of-type {\n",
       "        vertical-align: middle;\n",
       "    }\n",
       "\n",
       "    .dataframe tbody tr th {\n",
       "        vertical-align: top;\n",
       "    }\n",
       "\n",
       "    .dataframe thead th {\n",
       "        text-align: right;\n",
       "    }\n",
       "</style>\n",
       "<table border=\"1\" class=\"dataframe\">\n",
       "  <thead>\n",
       "    <tr style=\"text-align: right;\">\n",
       "      <th></th>\n",
       "      <th>terminal school</th>\n",
       "      <th>count</th>\n",
       "      <th>empty</th>\n",
       "    </tr>\n",
       "  </thead>\n",
       "  <tbody>\n",
       "    <tr>\n",
       "      <th>0</th>\n",
       "      <td>other schools</td>\n",
       "      <td>45</td>\n",
       "      <td></td>\n",
       "    </tr>\n",
       "    <tr>\n",
       "      <th>0</th>\n",
       "      <td>didn't go to college</td>\n",
       "      <td>38</td>\n",
       "      <td></td>\n",
       "    </tr>\n",
       "    <tr>\n",
       "      <th>1</th>\n",
       "      <td>New York University</td>\n",
       "      <td>25</td>\n",
       "      <td></td>\n",
       "    </tr>\n",
       "    <tr>\n",
       "      <th>2</th>\n",
       "      <td>Juilliard School</td>\n",
       "      <td>8</td>\n",
       "      <td></td>\n",
       "    </tr>\n",
       "    <tr>\n",
       "      <th>3</th>\n",
       "      <td>Carnegie Mellon University</td>\n",
       "      <td>7</td>\n",
       "      <td></td>\n",
       "    </tr>\n",
       "    <tr>\n",
       "      <th>4</th>\n",
       "      <td>University of Southern California</td>\n",
       "      <td>5</td>\n",
       "      <td></td>\n",
       "    </tr>\n",
       "    <tr>\n",
       "      <th>5</th>\n",
       "      <td>Northwestern University</td>\n",
       "      <td>4</td>\n",
       "      <td></td>\n",
       "    </tr>\n",
       "    <tr>\n",
       "      <th>9</th>\n",
       "      <td>Marymount Manhattan College</td>\n",
       "      <td>3</td>\n",
       "      <td></td>\n",
       "    </tr>\n",
       "    <tr>\n",
       "      <th>12</th>\n",
       "      <td>Yale University</td>\n",
       "      <td>3</td>\n",
       "      <td></td>\n",
       "    </tr>\n",
       "    <tr>\n",
       "      <th>11</th>\n",
       "      <td>Oklahoma City University</td>\n",
       "      <td>3</td>\n",
       "      <td></td>\n",
       "    </tr>\n",
       "    <tr>\n",
       "      <th>8</th>\n",
       "      <td>University of Cincinnati College-Conservatory ...</td>\n",
       "      <td>3</td>\n",
       "      <td></td>\n",
       "    </tr>\n",
       "    <tr>\n",
       "      <th>7</th>\n",
       "      <td>Wesleyan University</td>\n",
       "      <td>3</td>\n",
       "      <td></td>\n",
       "    </tr>\n",
       "    <tr>\n",
       "      <th>6</th>\n",
       "      <td>American Musical and Dramatic Academy (AMDA)</td>\n",
       "      <td>3</td>\n",
       "      <td></td>\n",
       "    </tr>\n",
       "    <tr>\n",
       "      <th>10</th>\n",
       "      <td>Ithaca College</td>\n",
       "      <td>3</td>\n",
       "      <td></td>\n",
       "    </tr>\n",
       "    <tr>\n",
       "      <th>13</th>\n",
       "      <td>Columbia University</td>\n",
       "      <td>2</td>\n",
       "      <td></td>\n",
       "    </tr>\n",
       "    <tr>\n",
       "      <th>14</th>\n",
       "      <td>California State University</td>\n",
       "      <td>2</td>\n",
       "      <td></td>\n",
       "    </tr>\n",
       "    <tr>\n",
       "      <th>15</th>\n",
       "      <td>Royal Academy of Dramatic Art (RADA)</td>\n",
       "      <td>2</td>\n",
       "      <td></td>\n",
       "    </tr>\n",
       "    <tr>\n",
       "      <th>16</th>\n",
       "      <td>University of California, Los Angeles</td>\n",
       "      <td>2</td>\n",
       "      <td></td>\n",
       "    </tr>\n",
       "    <tr>\n",
       "      <th>17</th>\n",
       "      <td>Illinois State University</td>\n",
       "      <td>2</td>\n",
       "      <td></td>\n",
       "    </tr>\n",
       "    <tr>\n",
       "      <th>18</th>\n",
       "      <td>Brown University</td>\n",
       "      <td>2</td>\n",
       "      <td></td>\n",
       "    </tr>\n",
       "  </tbody>\n",
       "</table>\n",
       "</div>"
      ],
      "text/plain": [
       "                                      terminal school  count empty\n",
       "0                                       other schools     45      \n",
       "0                                didn't go to college     38      \n",
       "1                                 New York University     25      \n",
       "2                                    Juilliard School      8      \n",
       "3                          Carnegie Mellon University      7      \n",
       "4                   University of Southern California      5      \n",
       "5                             Northwestern University      4      \n",
       "9                         Marymount Manhattan College      3      \n",
       "12                                    Yale University      3      \n",
       "11                           Oklahoma City University      3      \n",
       "8   University of Cincinnati College-Conservatory ...      3      \n",
       "7                                 Wesleyan University      3      \n",
       "6        American Musical and Dramatic Academy (AMDA)      3      \n",
       "10                                     Ithaca College      3      \n",
       "13                                Columbia University      2      \n",
       "14                        California State University      2      \n",
       "15               Royal Academy of Dramatic Art (RADA)      2      \n",
       "16              University of California, Los Angeles      2      \n",
       "17                          Illinois State University      2      \n",
       "18                                   Brown University      2      "
      ]
     },
     "execution_count": 251,
     "metadata": {},
     "output_type": "execute_result"
    }
   ],
   "source": [
    "# pvtschools = pd.pivot_table(sunburstdf, index=['terminal school'],\n",
    "#                        aggfunc={'actor': np.count_nonzero}).sort_values(\"actor\", ascending=False).reset_index()\n",
    "pvtschools = sunburstdf['terminal school'].value_counts().rename_axis('terminal school').reset_index()\n",
    "others = pvtschools[pvtschools['count']<2].sum()[1]\n",
    "others\n",
    "otherrow = pd.DataFrame([[\"other schools\", others]], columns=['terminal school', 'count'])\n",
    "# others\n",
    "pvtschools = pvtschools[pvtschools['count']>=2]\n",
    "sunburstcleandf = pd.concat([pvtschools, otherrow]).sort_values(\"count\", ascending=False)\n",
    "sunburstcleandf['empty'] = \" \"\n",
    "sunburstcleandf\n"
   ]
  },
  {
   "cell_type": "code",
   "execution_count": 308,
   "metadata": {},
   "outputs": [
    {
     "ename": "ValueError",
     "evalue": "Invalid property specified for object of type plotly.graph_objs.pie.Marker: 'color'\n\nDid you mean \"colors\"?\n\n    Valid properties:\n        colors\n            Sets the color of each sector. If not specified, the\n            default trace color set is used to pick the sector\n            colors.\n        colorssrc\n            Sets the source reference on Chart Studio Cloud for\n            `colors`.\n        line\n            :class:`plotly.graph_objects.pie.marker.Line` instance\n            or dict with compatible properties\n        pattern\n            Sets the pattern within the marker.\n        \nDid you mean \"colors\"?\n\nBad property path:\ncolor\n^^^^^",
     "output_type": "error",
     "traceback": [
      "\u001b[0;31m---------------------------------------------------------------------------\u001b[0m",
      "\u001b[0;31mValueError\u001b[0m                                Traceback (most recent call last)",
      "Cell \u001b[0;32mIn[308], line 21\u001b[0m\n\u001b[1;32m      1\u001b[0m \u001b[39m# import plotly.graph_objects as go\u001b[39;00m\n\u001b[1;32m      2\u001b[0m \n\u001b[1;32m      3\u001b[0m \u001b[39m# fig =go.Figure(go.Sunburst(\u001b[39;00m\n\u001b[0;32m   (...)\u001b[0m\n\u001b[1;32m     14\u001b[0m \n\u001b[1;32m     15\u001b[0m \u001b[39m# ))\u001b[39;00m\n\u001b[1;32m     19\u001b[0m \u001b[39mimport\u001b[39;00m \u001b[39mplotly\u001b[39;00m\u001b[39m.\u001b[39;00m\u001b[39mgraph_objects\u001b[39;00m \u001b[39mas\u001b[39;00m \u001b[39mgo\u001b[39;00m\n\u001b[0;32m---> 21\u001b[0m fig \u001b[39m=\u001b[39m go\u001b[39m.\u001b[39mFigure(data\u001b[39m=\u001b[39m[go\u001b[39m.\u001b[39;49mPie(\n\u001b[1;32m     22\u001b[0m     labels\u001b[39m=\u001b[39;49msunburstcleandf[\u001b[39m'\u001b[39;49m\u001b[39mterminal school\u001b[39;49m\u001b[39m'\u001b[39;49m], values\u001b[39m=\u001b[39;49msunburstcleandf[\u001b[39m'\u001b[39;49m\u001b[39mcount\u001b[39;49m\u001b[39m'\u001b[39;49m], hole\u001b[39m=\u001b[39;49m\u001b[39m.5\u001b[39;49m,\n\u001b[1;32m     23\u001b[0m     marker\u001b[39m=\u001b[39;49m\u001b[39mdict\u001b[39;49m(color\u001b[39m=\u001b[39;49m\u001b[39m'\u001b[39;49m\u001b[39mLightSkyBlue\u001b[39;49m\u001b[39m'\u001b[39;49m),\n\u001b[1;32m     24\u001b[0m     )])\n\u001b[1;32m     25\u001b[0m fig\u001b[39m.\u001b[39mupdate_traces(textposition\u001b[39m=\u001b[39m\u001b[39m'\u001b[39m\u001b[39minside\u001b[39m\u001b[39m'\u001b[39m, textinfo\u001b[39m=\u001b[39m\u001b[39m'\u001b[39m\u001b[39mlabel\u001b[39m\u001b[39m'\u001b[39m,\n\u001b[1;32m     26\u001b[0m \n\u001b[1;32m     27\u001b[0m     customdata\u001b[39m=\u001b[39msunburstcleandf[\u001b[39m\"\u001b[39m\u001b[39mterminal school\u001b[39m\u001b[39m\"\u001b[39m],\n\u001b[1;32m     28\u001b[0m     hovertemplate\u001b[39m=\u001b[39m\u001b[39m'\u001b[39m\u001b[39m<b>\u001b[39m\u001b[39m%\u001b[39m\u001b[39m{customdata}\u001b[39;00m\u001b[39m</b><br>\u001b[39m\u001b[39m%\u001b[39m\u001b[39m{value}\u001b[39;00m\u001b[39m'\u001b[39m)\n\u001b[1;32m     30\u001b[0m fig\u001b[39m.\u001b[39mupdate_layout(\n\u001b[1;32m     31\u001b[0m     hoverlabel\u001b[39m=\u001b[39m\u001b[39mdict\u001b[39m(\n\u001b[1;32m     32\u001b[0m         bgcolor\u001b[39m=\u001b[39m\u001b[39m\"\u001b[39m\u001b[39m#FFDD83\u001b[39m\u001b[39m\"\u001b[39m,\n\u001b[0;32m   (...)\u001b[0m\n\u001b[1;32m     39\u001b[0m     showlegend\u001b[39m=\u001b[39m\u001b[39mFalse\u001b[39;00m\n\u001b[1;32m     40\u001b[0m )\n",
      "File \u001b[0;32m~/.pyenv/versions/3.10.11/lib/python3.10/site-packages/plotly/graph_objs/_pie.py:2342\u001b[0m, in \u001b[0;36mPie.__init__\u001b[0;34m(self, arg, automargin, customdata, customdatasrc, direction, dlabel, domain, hole, hoverinfo, hoverinfosrc, hoverlabel, hovertemplate, hovertemplatesrc, hovertext, hovertextsrc, ids, idssrc, insidetextfont, insidetextorientation, label0, labels, labelssrc, legend, legendgroup, legendgrouptitle, legendrank, legendwidth, marker, meta, metasrc, name, opacity, outsidetextfont, pull, pullsrc, rotation, scalegroup, showlegend, sort, stream, text, textfont, textinfo, textposition, textpositionsrc, textsrc, texttemplate, texttemplatesrc, title, titlefont, titleposition, uid, uirevision, values, valuessrc, visible, **kwargs)\u001b[0m\n\u001b[1;32m   2340\u001b[0m _v \u001b[39m=\u001b[39m marker \u001b[39mif\u001b[39;00m marker \u001b[39mis\u001b[39;00m \u001b[39mnot\u001b[39;00m \u001b[39mNone\u001b[39;00m \u001b[39melse\u001b[39;00m _v\n\u001b[1;32m   2341\u001b[0m \u001b[39mif\u001b[39;00m _v \u001b[39mis\u001b[39;00m \u001b[39mnot\u001b[39;00m \u001b[39mNone\u001b[39;00m:\n\u001b[0;32m-> 2342\u001b[0m     \u001b[39mself\u001b[39;49m[\u001b[39m\"\u001b[39;49m\u001b[39mmarker\u001b[39;49m\u001b[39m\"\u001b[39;49m] \u001b[39m=\u001b[39m _v\n\u001b[1;32m   2343\u001b[0m _v \u001b[39m=\u001b[39m arg\u001b[39m.\u001b[39mpop(\u001b[39m\"\u001b[39m\u001b[39mmeta\u001b[39m\u001b[39m\"\u001b[39m, \u001b[39mNone\u001b[39;00m)\n\u001b[1;32m   2344\u001b[0m _v \u001b[39m=\u001b[39m meta \u001b[39mif\u001b[39;00m meta \u001b[39mis\u001b[39;00m \u001b[39mnot\u001b[39;00m \u001b[39mNone\u001b[39;00m \u001b[39melse\u001b[39;00m _v\n",
      "File \u001b[0;32m~/.pyenv/versions/3.10.11/lib/python3.10/site-packages/plotly/basedatatypes.py:4865\u001b[0m, in \u001b[0;36mBasePlotlyType.__setitem__\u001b[0;34m(self, prop, value)\u001b[0m\n\u001b[1;32m   4863\u001b[0m \u001b[39m# ### Handle compound property ###\u001b[39;00m\n\u001b[1;32m   4864\u001b[0m \u001b[39mif\u001b[39;00m \u001b[39misinstance\u001b[39m(validator, CompoundValidator):\n\u001b[0;32m-> 4865\u001b[0m     \u001b[39mself\u001b[39;49m\u001b[39m.\u001b[39;49m_set_compound_prop(prop, value)\n\u001b[1;32m   4867\u001b[0m \u001b[39m# ### Handle compound array property ###\u001b[39;00m\n\u001b[1;32m   4868\u001b[0m \u001b[39melif\u001b[39;00m \u001b[39misinstance\u001b[39m(validator, (CompoundArrayValidator, BaseDataValidator)):\n",
      "File \u001b[0;32m~/.pyenv/versions/3.10.11/lib/python3.10/site-packages/plotly/basedatatypes.py:5276\u001b[0m, in \u001b[0;36mBasePlotlyType._set_compound_prop\u001b[0;34m(self, prop, val)\u001b[0m\n\u001b[1;32m   5273\u001b[0m \u001b[39m# Import value\u001b[39;00m\n\u001b[1;32m   5274\u001b[0m \u001b[39m# ------------\u001b[39;00m\n\u001b[1;32m   5275\u001b[0m validator \u001b[39m=\u001b[39m \u001b[39mself\u001b[39m\u001b[39m.\u001b[39m_get_validator(prop)\n\u001b[0;32m-> 5276\u001b[0m val \u001b[39m=\u001b[39m validator\u001b[39m.\u001b[39;49mvalidate_coerce(val, skip_invalid\u001b[39m=\u001b[39;49m\u001b[39mself\u001b[39;49m\u001b[39m.\u001b[39;49m_skip_invalid)\n\u001b[1;32m   5278\u001b[0m \u001b[39m# Save deep copies of current and new states\u001b[39;00m\n\u001b[1;32m   5279\u001b[0m \u001b[39m# ------------------------------------------\u001b[39;00m\n\u001b[1;32m   5280\u001b[0m curr_val \u001b[39m=\u001b[39m \u001b[39mself\u001b[39m\u001b[39m.\u001b[39m_compound_props\u001b[39m.\u001b[39mget(prop, \u001b[39mNone\u001b[39;00m)\n",
      "File \u001b[0;32m~/.pyenv/versions/3.10.11/lib/python3.10/site-packages/_plotly_utils/basevalidators.py:2475\u001b[0m, in \u001b[0;36mCompoundValidator.validate_coerce\u001b[0;34m(self, v, skip_invalid, _validate)\u001b[0m\n\u001b[1;32m   2472\u001b[0m     v \u001b[39m=\u001b[39m \u001b[39mself\u001b[39m\u001b[39m.\u001b[39mdata_class()\n\u001b[1;32m   2474\u001b[0m \u001b[39melif\u001b[39;00m \u001b[39misinstance\u001b[39m(v, \u001b[39mdict\u001b[39m):\n\u001b[0;32m-> 2475\u001b[0m     v \u001b[39m=\u001b[39m \u001b[39mself\u001b[39;49m\u001b[39m.\u001b[39;49mdata_class(v, skip_invalid\u001b[39m=\u001b[39;49mskip_invalid, _validate\u001b[39m=\u001b[39;49m_validate)\n\u001b[1;32m   2477\u001b[0m \u001b[39melif\u001b[39;00m \u001b[39misinstance\u001b[39m(v, \u001b[39mself\u001b[39m\u001b[39m.\u001b[39mdata_class):\n\u001b[1;32m   2478\u001b[0m     \u001b[39m# Copy object\u001b[39;00m\n\u001b[1;32m   2479\u001b[0m     v \u001b[39m=\u001b[39m \u001b[39mself\u001b[39m\u001b[39m.\u001b[39mdata_class(v)\n",
      "File \u001b[0;32m~/.pyenv/versions/3.10.11/lib/python3.10/site-packages/plotly/graph_objs/pie/_marker.py:259\u001b[0m, in \u001b[0;36mMarker.__init__\u001b[0;34m(self, arg, colors, colorssrc, line, pattern, **kwargs)\u001b[0m\n\u001b[1;32m    255\u001b[0m     \u001b[39mself\u001b[39m[\u001b[39m\"\u001b[39m\u001b[39mpattern\u001b[39m\u001b[39m\"\u001b[39m] \u001b[39m=\u001b[39m _v\n\u001b[1;32m    257\u001b[0m \u001b[39m# Process unknown kwargs\u001b[39;00m\n\u001b[1;32m    258\u001b[0m \u001b[39m# ----------------------\u001b[39;00m\n\u001b[0;32m--> 259\u001b[0m \u001b[39mself\u001b[39;49m\u001b[39m.\u001b[39;49m_process_kwargs(\u001b[39m*\u001b[39;49m\u001b[39m*\u001b[39;49m\u001b[39mdict\u001b[39;49m(arg, \u001b[39m*\u001b[39;49m\u001b[39m*\u001b[39;49mkwargs))\n\u001b[1;32m    261\u001b[0m \u001b[39m# Reset skip_invalid\u001b[39;00m\n\u001b[1;32m    262\u001b[0m \u001b[39m# ------------------\u001b[39;00m\n\u001b[1;32m    263\u001b[0m \u001b[39mself\u001b[39m\u001b[39m.\u001b[39m_skip_invalid \u001b[39m=\u001b[39m \u001b[39mFalse\u001b[39;00m\n",
      "File \u001b[0;32m~/.pyenv/versions/3.10.11/lib/python3.10/site-packages/plotly/basedatatypes.py:4391\u001b[0m, in \u001b[0;36mBasePlotlyType._process_kwargs\u001b[0;34m(self, **kwargs)\u001b[0m\n\u001b[1;32m   4389\u001b[0m     \u001b[39mself\u001b[39m[k] \u001b[39m=\u001b[39m v\n\u001b[1;32m   4390\u001b[0m \u001b[39melif\u001b[39;00m \u001b[39mnot\u001b[39;00m \u001b[39mself\u001b[39m\u001b[39m.\u001b[39m_skip_invalid:\n\u001b[0;32m-> 4391\u001b[0m     \u001b[39mraise\u001b[39;00m err\n",
      "\u001b[0;31mValueError\u001b[0m: Invalid property specified for object of type plotly.graph_objs.pie.Marker: 'color'\n\nDid you mean \"colors\"?\n\n    Valid properties:\n        colors\n            Sets the color of each sector. If not specified, the\n            default trace color set is used to pick the sector\n            colors.\n        colorssrc\n            Sets the source reference on Chart Studio Cloud for\n            `colors`.\n        line\n            :class:`plotly.graph_objects.pie.marker.Line` instance\n            or dict with compatible properties\n        pattern\n            Sets the pattern within the marker.\n        \nDid you mean \"colors\"?\n\nBad property path:\ncolor\n^^^^^"
     ]
    }
   ],
   "source": [
    "# import plotly.graph_objects as go\n",
    "\n",
    "# fig =go.Figure(go.Sunburst(\n",
    "#     labels=sunburstcleandf['terminal school'],\n",
    "#     parents=sunburstcleandf['empty'],\n",
    "#     values=sunburstcleandf['count'],\n",
    "#     root_color=\"white\",\n",
    "#    marker=dict(\n",
    "#         colors=sunburstcleandf['count'],\n",
    "#         colorscale='Greens',\n",
    "#         color_discrete_map={\"other\": 'gray'}),\n",
    "#     name='',\n",
    "# ))\n",
    "\n",
    "import plotly.graph_objects as go\n",
    "fig = go.Figure(data=[go.Pie(\n",
    "    labels=sunburstcleandf['terminal school'], values=sunburstcleandf['count'], hole=.5,\n",
    "    marker=dict(color='LightSkyBlue'),\n",
    "    )])\n",
    "fig.update_traces(textposition='inside', textinfo='label',\n",
    "    customdata=sunburstcleandf[\"terminal school\"],\n",
    "    hovertemplate='<b>%{customdata}</b><br>%{value}')\n",
    "\n",
    "fig.update_layout(\n",
    "    hoverlabel=dict(\n",
    "        bgcolor=\"#FFDD83\",\n",
    "        bordercolor=\"white\",\n",
    "        font_color=\"black\",\n",
    "        # border_color=\"white\"\n",
    "    ),\n",
    "    margin=dict(l=0, r=0, t=0, b=0),\n",
    "    width=800,height=800,\n",
    "    showlegend=False\n",
    ")\n",
    "\n",
    "fig.show()"
   ]
  },
  {
   "cell_type": "code",
   "execution_count": 319,
   "metadata": {},
   "outputs": [
    {
     "data": {
      "application/vnd.plotly.v1+json": {
       "config": {
        "plotlyServerURL": "https://plot.ly"
       },
       "data": [
        {
         "hole": 0.8,
         "hovertemplate": "<b>%{label}</b><br>%{value}",
         "labels": [
          "other schools",
          "didn't go to college",
          "New York University",
          "Juilliard School",
          "Carnegie Mellon University",
          "University of Southern California",
          "Northwestern University",
          "Ithaca College",
          "American Musical and Dramatic Academy (AMDA)",
          "Wesleyan University",
          "University of Cincinnati College-Conservatory of Music",
          "Oklahoma City University",
          "Yale University",
          "Marymount Manhattan College",
          "Columbia University",
          "California State University",
          "Royal Academy of Dramatic Art (RADA)",
          "University of California, Los Angeles",
          "Illinois State University",
          "Brown University"
         ],
         "textinfo": "label",
         "textposition": "inside",
         "type": "pie",
         "values": [
          45,
          38,
          25,
          8,
          7,
          5,
          4,
          3,
          3,
          3,
          3,
          3,
          3,
          3,
          2,
          2,
          2,
          2,
          2,
          2
         ]
        }
       ],
       "layout": {
        "hoverlabel": {
         "bgcolor": "#FFDD83",
         "bordercolor": "white",
         "font": {
          "color": "black"
         }
        },
        "margin": {
         "b": 0,
         "l": 0,
         "r": 0,
         "t": 0
        },
        "showlegend": false,
        "template": {
         "data": {
          "bar": [
           {
            "error_x": {
             "color": "#2a3f5f"
            },
            "error_y": {
             "color": "#2a3f5f"
            },
            "marker": {
             "line": {
              "color": "#E5ECF6",
              "width": 0.5
             },
             "pattern": {
              "fillmode": "overlay",
              "size": 10,
              "solidity": 0.2
             }
            },
            "type": "bar"
           }
          ],
          "barpolar": [
           {
            "marker": {
             "line": {
              "color": "#E5ECF6",
              "width": 0.5
             },
             "pattern": {
              "fillmode": "overlay",
              "size": 10,
              "solidity": 0.2
             }
            },
            "type": "barpolar"
           }
          ],
          "carpet": [
           {
            "aaxis": {
             "endlinecolor": "#2a3f5f",
             "gridcolor": "white",
             "linecolor": "white",
             "minorgridcolor": "white",
             "startlinecolor": "#2a3f5f"
            },
            "baxis": {
             "endlinecolor": "#2a3f5f",
             "gridcolor": "white",
             "linecolor": "white",
             "minorgridcolor": "white",
             "startlinecolor": "#2a3f5f"
            },
            "type": "carpet"
           }
          ],
          "choropleth": [
           {
            "colorbar": {
             "outlinewidth": 0,
             "ticks": ""
            },
            "type": "choropleth"
           }
          ],
          "contour": [
           {
            "colorbar": {
             "outlinewidth": 0,
             "ticks": ""
            },
            "colorscale": [
             [
              0,
              "#0d0887"
             ],
             [
              0.1111111111111111,
              "#46039f"
             ],
             [
              0.2222222222222222,
              "#7201a8"
             ],
             [
              0.3333333333333333,
              "#9c179e"
             ],
             [
              0.4444444444444444,
              "#bd3786"
             ],
             [
              0.5555555555555556,
              "#d8576b"
             ],
             [
              0.6666666666666666,
              "#ed7953"
             ],
             [
              0.7777777777777778,
              "#fb9f3a"
             ],
             [
              0.8888888888888888,
              "#fdca26"
             ],
             [
              1,
              "#f0f921"
             ]
            ],
            "type": "contour"
           }
          ],
          "contourcarpet": [
           {
            "colorbar": {
             "outlinewidth": 0,
             "ticks": ""
            },
            "type": "contourcarpet"
           }
          ],
          "heatmap": [
           {
            "colorbar": {
             "outlinewidth": 0,
             "ticks": ""
            },
            "colorscale": [
             [
              0,
              "#0d0887"
             ],
             [
              0.1111111111111111,
              "#46039f"
             ],
             [
              0.2222222222222222,
              "#7201a8"
             ],
             [
              0.3333333333333333,
              "#9c179e"
             ],
             [
              0.4444444444444444,
              "#bd3786"
             ],
             [
              0.5555555555555556,
              "#d8576b"
             ],
             [
              0.6666666666666666,
              "#ed7953"
             ],
             [
              0.7777777777777778,
              "#fb9f3a"
             ],
             [
              0.8888888888888888,
              "#fdca26"
             ],
             [
              1,
              "#f0f921"
             ]
            ],
            "type": "heatmap"
           }
          ],
          "heatmapgl": [
           {
            "colorbar": {
             "outlinewidth": 0,
             "ticks": ""
            },
            "colorscale": [
             [
              0,
              "#0d0887"
             ],
             [
              0.1111111111111111,
              "#46039f"
             ],
             [
              0.2222222222222222,
              "#7201a8"
             ],
             [
              0.3333333333333333,
              "#9c179e"
             ],
             [
              0.4444444444444444,
              "#bd3786"
             ],
             [
              0.5555555555555556,
              "#d8576b"
             ],
             [
              0.6666666666666666,
              "#ed7953"
             ],
             [
              0.7777777777777778,
              "#fb9f3a"
             ],
             [
              0.8888888888888888,
              "#fdca26"
             ],
             [
              1,
              "#f0f921"
             ]
            ],
            "type": "heatmapgl"
           }
          ],
          "histogram": [
           {
            "marker": {
             "pattern": {
              "fillmode": "overlay",
              "size": 10,
              "solidity": 0.2
             }
            },
            "type": "histogram"
           }
          ],
          "histogram2d": [
           {
            "colorbar": {
             "outlinewidth": 0,
             "ticks": ""
            },
            "colorscale": [
             [
              0,
              "#0d0887"
             ],
             [
              0.1111111111111111,
              "#46039f"
             ],
             [
              0.2222222222222222,
              "#7201a8"
             ],
             [
              0.3333333333333333,
              "#9c179e"
             ],
             [
              0.4444444444444444,
              "#bd3786"
             ],
             [
              0.5555555555555556,
              "#d8576b"
             ],
             [
              0.6666666666666666,
              "#ed7953"
             ],
             [
              0.7777777777777778,
              "#fb9f3a"
             ],
             [
              0.8888888888888888,
              "#fdca26"
             ],
             [
              1,
              "#f0f921"
             ]
            ],
            "type": "histogram2d"
           }
          ],
          "histogram2dcontour": [
           {
            "colorbar": {
             "outlinewidth": 0,
             "ticks": ""
            },
            "colorscale": [
             [
              0,
              "#0d0887"
             ],
             [
              0.1111111111111111,
              "#46039f"
             ],
             [
              0.2222222222222222,
              "#7201a8"
             ],
             [
              0.3333333333333333,
              "#9c179e"
             ],
             [
              0.4444444444444444,
              "#bd3786"
             ],
             [
              0.5555555555555556,
              "#d8576b"
             ],
             [
              0.6666666666666666,
              "#ed7953"
             ],
             [
              0.7777777777777778,
              "#fb9f3a"
             ],
             [
              0.8888888888888888,
              "#fdca26"
             ],
             [
              1,
              "#f0f921"
             ]
            ],
            "type": "histogram2dcontour"
           }
          ],
          "mesh3d": [
           {
            "colorbar": {
             "outlinewidth": 0,
             "ticks": ""
            },
            "type": "mesh3d"
           }
          ],
          "parcoords": [
           {
            "line": {
             "colorbar": {
              "outlinewidth": 0,
              "ticks": ""
             }
            },
            "type": "parcoords"
           }
          ],
          "pie": [
           {
            "automargin": true,
            "type": "pie"
           }
          ],
          "scatter": [
           {
            "fillpattern": {
             "fillmode": "overlay",
             "size": 10,
             "solidity": 0.2
            },
            "type": "scatter"
           }
          ],
          "scatter3d": [
           {
            "line": {
             "colorbar": {
              "outlinewidth": 0,
              "ticks": ""
             }
            },
            "marker": {
             "colorbar": {
              "outlinewidth": 0,
              "ticks": ""
             }
            },
            "type": "scatter3d"
           }
          ],
          "scattercarpet": [
           {
            "marker": {
             "colorbar": {
              "outlinewidth": 0,
              "ticks": ""
             }
            },
            "type": "scattercarpet"
           }
          ],
          "scattergeo": [
           {
            "marker": {
             "colorbar": {
              "outlinewidth": 0,
              "ticks": ""
             }
            },
            "type": "scattergeo"
           }
          ],
          "scattergl": [
           {
            "marker": {
             "colorbar": {
              "outlinewidth": 0,
              "ticks": ""
             }
            },
            "type": "scattergl"
           }
          ],
          "scattermapbox": [
           {
            "marker": {
             "colorbar": {
              "outlinewidth": 0,
              "ticks": ""
             }
            },
            "type": "scattermapbox"
           }
          ],
          "scatterpolar": [
           {
            "marker": {
             "colorbar": {
              "outlinewidth": 0,
              "ticks": ""
             }
            },
            "type": "scatterpolar"
           }
          ],
          "scatterpolargl": [
           {
            "marker": {
             "colorbar": {
              "outlinewidth": 0,
              "ticks": ""
             }
            },
            "type": "scatterpolargl"
           }
          ],
          "scatterternary": [
           {
            "marker": {
             "colorbar": {
              "outlinewidth": 0,
              "ticks": ""
             }
            },
            "type": "scatterternary"
           }
          ],
          "surface": [
           {
            "colorbar": {
             "outlinewidth": 0,
             "ticks": ""
            },
            "colorscale": [
             [
              0,
              "#0d0887"
             ],
             [
              0.1111111111111111,
              "#46039f"
             ],
             [
              0.2222222222222222,
              "#7201a8"
             ],
             [
              0.3333333333333333,
              "#9c179e"
             ],
             [
              0.4444444444444444,
              "#bd3786"
             ],
             [
              0.5555555555555556,
              "#d8576b"
             ],
             [
              0.6666666666666666,
              "#ed7953"
             ],
             [
              0.7777777777777778,
              "#fb9f3a"
             ],
             [
              0.8888888888888888,
              "#fdca26"
             ],
             [
              1,
              "#f0f921"
             ]
            ],
            "type": "surface"
           }
          ],
          "table": [
           {
            "cells": {
             "fill": {
              "color": "#EBF0F8"
             },
             "line": {
              "color": "white"
             }
            },
            "header": {
             "fill": {
              "color": "#C8D4E3"
             },
             "line": {
              "color": "white"
             }
            },
            "type": "table"
           }
          ]
         },
         "layout": {
          "annotationdefaults": {
           "arrowcolor": "#2a3f5f",
           "arrowhead": 0,
           "arrowwidth": 1
          },
          "autotypenumbers": "strict",
          "coloraxis": {
           "colorbar": {
            "outlinewidth": 0,
            "ticks": ""
           }
          },
          "colorscale": {
           "diverging": [
            [
             0,
             "#8e0152"
            ],
            [
             0.1,
             "#c51b7d"
            ],
            [
             0.2,
             "#de77ae"
            ],
            [
             0.3,
             "#f1b6da"
            ],
            [
             0.4,
             "#fde0ef"
            ],
            [
             0.5,
             "#f7f7f7"
            ],
            [
             0.6,
             "#e6f5d0"
            ],
            [
             0.7,
             "#b8e186"
            ],
            [
             0.8,
             "#7fbc41"
            ],
            [
             0.9,
             "#4d9221"
            ],
            [
             1,
             "#276419"
            ]
           ],
           "sequential": [
            [
             0,
             "#0d0887"
            ],
            [
             0.1111111111111111,
             "#46039f"
            ],
            [
             0.2222222222222222,
             "#7201a8"
            ],
            [
             0.3333333333333333,
             "#9c179e"
            ],
            [
             0.4444444444444444,
             "#bd3786"
            ],
            [
             0.5555555555555556,
             "#d8576b"
            ],
            [
             0.6666666666666666,
             "#ed7953"
            ],
            [
             0.7777777777777778,
             "#fb9f3a"
            ],
            [
             0.8888888888888888,
             "#fdca26"
            ],
            [
             1,
             "#f0f921"
            ]
           ],
           "sequentialminus": [
            [
             0,
             "#0d0887"
            ],
            [
             0.1111111111111111,
             "#46039f"
            ],
            [
             0.2222222222222222,
             "#7201a8"
            ],
            [
             0.3333333333333333,
             "#9c179e"
            ],
            [
             0.4444444444444444,
             "#bd3786"
            ],
            [
             0.5555555555555556,
             "#d8576b"
            ],
            [
             0.6666666666666666,
             "#ed7953"
            ],
            [
             0.7777777777777778,
             "#fb9f3a"
            ],
            [
             0.8888888888888888,
             "#fdca26"
            ],
            [
             1,
             "#f0f921"
            ]
           ]
          },
          "colorway": [
           "#636efa",
           "#EF553B",
           "#00cc96",
           "#ab63fa",
           "#FFA15A",
           "#19d3f3",
           "#FF6692",
           "#B6E880",
           "#FF97FF",
           "#FECB52"
          ],
          "font": {
           "color": "#2a3f5f"
          },
          "geo": {
           "bgcolor": "white",
           "lakecolor": "white",
           "landcolor": "#E5ECF6",
           "showlakes": true,
           "showland": true,
           "subunitcolor": "white"
          },
          "hoverlabel": {
           "align": "left"
          },
          "hovermode": "closest",
          "mapbox": {
           "style": "light"
          },
          "paper_bgcolor": "white",
          "plot_bgcolor": "#E5ECF6",
          "polar": {
           "angularaxis": {
            "gridcolor": "white",
            "linecolor": "white",
            "ticks": ""
           },
           "bgcolor": "#E5ECF6",
           "radialaxis": {
            "gridcolor": "white",
            "linecolor": "white",
            "ticks": ""
           }
          },
          "scene": {
           "xaxis": {
            "backgroundcolor": "#E5ECF6",
            "gridcolor": "white",
            "gridwidth": 2,
            "linecolor": "white",
            "showbackground": true,
            "ticks": "",
            "zerolinecolor": "white"
           },
           "yaxis": {
            "backgroundcolor": "#E5ECF6",
            "gridcolor": "white",
            "gridwidth": 2,
            "linecolor": "white",
            "showbackground": true,
            "ticks": "",
            "zerolinecolor": "white"
           },
           "zaxis": {
            "backgroundcolor": "#E5ECF6",
            "gridcolor": "white",
            "gridwidth": 2,
            "linecolor": "white",
            "showbackground": true,
            "ticks": "",
            "zerolinecolor": "white"
           }
          },
          "shapedefaults": {
           "line": {
            "color": "#2a3f5f"
           }
          },
          "ternary": {
           "aaxis": {
            "gridcolor": "white",
            "linecolor": "white",
            "ticks": ""
           },
           "baxis": {
            "gridcolor": "white",
            "linecolor": "white",
            "ticks": ""
           },
           "bgcolor": "#E5ECF6",
           "caxis": {
            "gridcolor": "white",
            "linecolor": "white",
            "ticks": ""
           }
          },
          "title": {
           "x": 0.05
          },
          "xaxis": {
           "automargin": true,
           "gridcolor": "white",
           "linecolor": "white",
           "ticks": "",
           "title": {
            "standoff": 15
           },
           "zerolinecolor": "white",
           "zerolinewidth": 2
          },
          "yaxis": {
           "automargin": true,
           "gridcolor": "white",
           "linecolor": "white",
           "ticks": "",
           "title": {
            "standoff": 15
           },
           "zerolinecolor": "white",
           "zerolinewidth": 2
          }
         }
        }
       }
      }
     },
     "metadata": {},
     "output_type": "display_data"
    }
   ],
   "source": [
    "import plotly.graph_objects as go\n",
    "\n",
    "fig = go.Figure(data=[go.Pie(labels=sunburstcleandf['terminal school'], values=sunburstcleandf['count'], hole=0.8)])\n",
    "\n",
    "fig.update_layout(\n",
    "    hoverlabel=dict(\n",
    "        bgcolor=\"#FFDD83\",\n",
    "        bordercolor=\"white\",\n",
    "        font_color=\"black\",\n",
    "        # border_color=\"white\"\n",
    "    ),\n",
    "    margin=dict(l=0, r=0, t=0, b=0),\n",
    "    # width=800,height=800,\n",
    "    showlegend=False\n",
    ")\n",
    "fig.update_traces(textposition='inside', textinfo='label',\n",
    "    # customdata=sunburstcleandf[\"terminal school\"],\n",
    "    hovertemplate='<b>%{label}</b><br>%{value}'\n",
    "    )\n",
    "\n",
    "fig.show()"
   ]
  },
  {
   "cell_type": "code",
   "execution_count": null,
   "metadata": {},
   "outputs": [],
   "source": []
  },
  {
   "cell_type": "code",
   "execution_count": 290,
   "metadata": {},
   "outputs": [
    {
     "data": {
      "image/png": "[encoded data removed]",
      "text/plain": [
       "<Figure size 2000x1000 with 1 Axes>"
      ]
     },
     "metadata": {},
     "output_type": "display_data"
    }
   ],
   "source": [
    "# import pandas for data wrangling\n",
    "import pandas as pd\n",
    "import matplotlib.pyplot as plt\n",
    "import numpy as np\n",
    "\n",
    "# Build a dataset\n",
    "df = pd.DataFrame(\n",
    "        {\n",
    "            'Name': ['item ' + str(i) for i in list(range(1, 51)) ],\n",
    "            'Value': np.random.randint(low=10, high=100, size=50)\n",
    "        })\n",
    "\n",
    "# Reorder the dataframe\n",
    "df = df.sort_values(by=['Value'])\n",
    "sunburstcleandf = sunburstcleandf.sort_values('count', ascending=False)\n",
    "\n",
    "# initialize the figure\n",
    "plt.figure(figsize=(20,10))\n",
    "ax = plt.subplot(111, polar=True)\n",
    "plt.axis('off')\n",
    "\n",
    "# Constants = parameters controling the plot layout:\n",
    "upperLimit = 100\n",
    "lowerLimit = 30\n",
    "labelPadding = 4\n",
    "\n",
    "# Compute max and min in the dataset\n",
    "max = df['Value'].max()\n",
    "\n",
    "# Let's compute heights: they are a conversion of each item value in those new coordinates\n",
    "# In our example, 0 in the dataset will be converted to the lowerLimit (10)\n",
    "# The maximum will be converted to the upperLimit (100)\n",
    "slope = (max - lowerLimit) / max\n",
    "heights = slope * df.Value + lowerLimit\n",
    "\n",
    "# Compute the width of each bar. In total we have 2*Pi = 360°\n",
    "width = 2*np.pi / len(df.index)\n",
    "\n",
    "# Compute the angle each bar is centered on:\n",
    "indexes = list(range(1, len(df.index)+1))\n",
    "angles = [element * width for element in indexes]\n",
    "angles\n",
    "\n",
    "# Draw bars\n",
    "bars = ax.bar(\n",
    "    x=sunburstcleandf['terminal school'], \n",
    "    height=sunburstcleandf['count'], \n",
    "    width=width, \n",
    "    bottom=lowerLimit,\n",
    "    linewidth=5, \n",
    "    edgecolor=\"white\",\n",
    "    color=\"#FFDD83\",\n",
    ")\n",
    "\n",
    "# Add labels\n",
    "for bar, angle, height, label in zip(bars,angles, heights, sunburstcleandf['terminal school']):\n",
    "\n",
    "    # Labels are rotated. Rotation must be specified in degrees :(\n",
    "    rotation = np.rad2deg(angle)\n",
    "\n",
    "    # Flip some labels upside down\n",
    "    # alignment = \"\"\n",
    "    # if angle >= np.pi/2 and angle < 3*np.pi/2:\n",
    "    #     alignment = \"right\"\n",
    "    #     rotation = rotation + 180\n",
    "    # else: \n",
    "    #     alignment = \"left\"\n",
    "\n",
    "    # Finally add the labels\n",
    "    ax.text(\n",
    "        x=angle, \n",
    "        y=lowerLimit + bar.get_height() + labelPadding, \n",
    "        s=label, \n",
    "        # ha=alignment, \n",
    "        va='center', \n",
    "        rotation=rotation, \n",
    "        rotation_mode=\"anchor\") \n"
   ]
  }
 ],
 "metadata": {
  "kernelspec": {
   "display_name": "Python 3",
   "language": "python",
   "name": "python3"
  },
  "language_info": {
   "codemirror_mode": {
    "name": "ipython",
    "version": 3
   },
   "file_extension": ".py",
   "mimetype": "text/x-python",
   "name": "python",
   "nbconvert_exporter": "python",
   "pygments_lexer": "ipython3",
   "version": "3.10.11"
  },
  "orig_nbformat": 4
 },
 "nbformat": 4,
 "nbformat_minor": 2
}
